{
  "nbformat": 4,
  "nbformat_minor": 0,
  "metadata": {
    "colab": {
      "name": "Ex3.ipynb",
      "provenance": [],
      "collapsed_sections": []
    },
    "kernelspec": {
      "name": "python3",
      "display_name": "Python 3"
    },
    "language_info": {
      "name": "python"
    }
  },
  "cells": [
    {
      "cell_type": "code",
      "source": [
        "# Kết nối Google Colab đến Google Drive của bạn:\n",
        "from google.colab import drive\n",
        "drive.mount('/content/gdrive')"
      ],
      "metadata": {
        "colab": {
          "base_uri": "https://localhost:8080/"
        },
        "id": "Zlo-HRlEfOH4",
        "outputId": "86ac8a4c-c1e7-4db5-de9b-04adfc72fd3b"
      },
      "execution_count": null,
      "outputs": [
        {
          "output_type": "stream",
          "name": "stdout",
          "text": [
            "Mounted at /content/gdrive\n"
          ]
        }
      ]
    },
    {
      "cell_type": "code",
      "execution_count": null,
      "metadata": {
        "id": "yJYRYvXbekQR"
      },
      "outputs": [],
      "source": [
        "# -> Example Input: https://www.youtube.com/watch?v=QmDDbqZ8VGc"
      ]
    },
    {
      "cell_type": "markdown",
      "source": [
        "# 3. Crawling and preprocessing text"
      ],
      "metadata": {
        "id": "psZre32Sq7AB"
      }
    },
    {
      "cell_type": "markdown",
      "source": [
        "3.1. Write a python program to crawl the first 200 comments of a video."
      ],
      "metadata": {
        "id": "-JvxcMtrrD6A"
      }
    },
    {
      "cell_type": "code",
      "source": [
        "videoURL = input(\"Vui lòng nhập địa chỉ URL của video muốn lấy comment: \")\n",
        "print(\"Video định crawl là: \" + str(videoURL))"
      ],
      "metadata": {
        "id": "t6OcysYMgrAE",
        "colab": {
          "base_uri": "https://localhost:8080/"
        },
        "outputId": "bd8d9700-f678-4708-8b3a-f78bcd28bd60"
      },
      "execution_count": null,
      "outputs": [
        {
          "output_type": "stream",
          "name": "stdout",
          "text": [
            "Vui lòng nhập địa chỉ URL của video muốn lấy comment: https://www.youtube.com/watch?v=QmDDbqZ8VGc\n",
            "Video định crawl là: https://www.youtube.com/watch?v=QmDDbqZ8VGc\n"
          ]
        }
      ]
    },
    {
      "cell_type": "code",
      "source": [
        "import requests\n",
        "\n",
        "# Kiểm tra xem có video không\n",
        "def try_site(url):\n",
        "  try:\n",
        "    request = requests.get(url, allow_redirects=False)\n",
        "    return request.status_code == 200\n",
        "  except:\n",
        "    print(\"Đã xảy ra lỗi với URL\")\n",
        "    return False\n",
        "\n",
        "try_site(str(videoURL))"
      ],
      "metadata": {
        "colab": {
          "base_uri": "https://localhost:8080/"
        },
        "id": "8TKWzjD13649",
        "outputId": "14c21e3f-e3dd-4dbd-8b70-341e75cf77e7"
      },
      "execution_count": null,
      "outputs": [
        {
          "output_type": "execute_result",
          "data": {
            "text/plain": [
              "True"
            ]
          },
          "metadata": {},
          "execution_count": 9
        }
      ]
    },
    {
      "cell_type": "code",
      "source": [
        "!pip install selenium # Dùng Selenium vì Youtube sử dụng JavaScript rendered, vốn là thứ nằm ngoài khả năng xử lý của BeautifulSoup\n",
        "!apt-get update # để update ubuntu nhằm run apt install chính xác hơn\n",
        "!apt install chromium-chromedriver\n",
        "!cp /usr/lib/chromium-browser/chromedriver /usr/bin # Sao chép ChromeDriver sang /usr/bin\n",
        "import sys\n",
        "sys.path.insert(0,'/usr/lib/chromium-browser/chromedriver')\n",
        "from selenium import webdriver\n",
        "chrome_options = webdriver.ChromeOptions()\n",
        "chrome_options.add_argument('--headless')\n",
        "chrome_options.add_argument('--no-sandbox')\n",
        "chrome_options.add_argument('--disable-dev-shm-usage') # Lưu ý là đang cấu hình cho ChromeDriver chạy được trên Google Colab; Nguồn tham khảo: https://colab.research.google.com/drive/1GFJKhpOju_WLAgiVPCzCGTBVGMkyAjtk\n",
        "import time # Nhằm gọi sleep() để giúp chương trình đợi Youtube load các comment\n",
        "from selenium.webdriver import Chrome\n",
        "from selenium.webdriver.common.by import By\n",
        "from selenium.webdriver.support.ui import WebDriverWait\n",
        "from selenium.webdriver.common.keys import Keys\n",
        "from selenium.webdriver.support import expected_conditions # Cần những modules này là bởi comments trên Youtube được loaded động, chỉ hiện ra khi chúng ta lăn chuột xuống phần dưới của video."
      ],
      "metadata": {
        "id": "LrmH-y9z3UCB",
        "colab": {
          "base_uri": "https://localhost:8080/",
          "height": 1000
        },
        "outputId": "146ab2b4-67bb-4f82-d50c-8d7ea4724889"
      },
      "execution_count": null,
      "outputs": [
        {
          "output_type": "stream",
          "name": "stdout",
          "text": [
            "Collecting selenium\n",
            "  Downloading selenium-4.1.3-py3-none-any.whl (968 kB)\n",
            "\u001b[?25l\r\u001b[K     |▍                               | 10 kB 28.3 MB/s eta 0:00:01\r\u001b[K     |▊                               | 20 kB 36.6 MB/s eta 0:00:01\r\u001b[K     |█                               | 30 kB 27.5 MB/s eta 0:00:01\r\u001b[K     |█▍                              | 40 kB 14.2 MB/s eta 0:00:01\r\u001b[K     |█▊                              | 51 kB 12.9 MB/s eta 0:00:01\r\u001b[K     |██                              | 61 kB 14.5 MB/s eta 0:00:01\r\u001b[K     |██▍                             | 71 kB 13.1 MB/s eta 0:00:01\r\u001b[K     |██▊                             | 81 kB 12.9 MB/s eta 0:00:01\r\u001b[K     |███                             | 92 kB 14.2 MB/s eta 0:00:01\r\u001b[K     |███▍                            | 102 kB 14.2 MB/s eta 0:00:01\r\u001b[K     |███▊                            | 112 kB 14.2 MB/s eta 0:00:01\r\u001b[K     |████                            | 122 kB 14.2 MB/s eta 0:00:01\r\u001b[K     |████▍                           | 133 kB 14.2 MB/s eta 0:00:01\r\u001b[K     |████▊                           | 143 kB 14.2 MB/s eta 0:00:01\r\u001b[K     |█████                           | 153 kB 14.2 MB/s eta 0:00:01\r\u001b[K     |█████▍                          | 163 kB 14.2 MB/s eta 0:00:01\r\u001b[K     |█████▊                          | 174 kB 14.2 MB/s eta 0:00:01\r\u001b[K     |██████                          | 184 kB 14.2 MB/s eta 0:00:01\r\u001b[K     |██████▍                         | 194 kB 14.2 MB/s eta 0:00:01\r\u001b[K     |██████▊                         | 204 kB 14.2 MB/s eta 0:00:01\r\u001b[K     |███████                         | 215 kB 14.2 MB/s eta 0:00:01\r\u001b[K     |███████▍                        | 225 kB 14.2 MB/s eta 0:00:01\r\u001b[K     |███████▉                        | 235 kB 14.2 MB/s eta 0:00:01\r\u001b[K     |████████▏                       | 245 kB 14.2 MB/s eta 0:00:01\r\u001b[K     |████████▌                       | 256 kB 14.2 MB/s eta 0:00:01\r\u001b[K     |████████▉                       | 266 kB 14.2 MB/s eta 0:00:01\r\u001b[K     |█████████▏                      | 276 kB 14.2 MB/s eta 0:00:01\r\u001b[K     |█████████▌                      | 286 kB 14.2 MB/s eta 0:00:01\r\u001b[K     |█████████▉                      | 296 kB 14.2 MB/s eta 0:00:01\r\u001b[K     |██████████▏                     | 307 kB 14.2 MB/s eta 0:00:01\r\u001b[K     |██████████▌                     | 317 kB 14.2 MB/s eta 0:00:01\r\u001b[K     |██████████▉                     | 327 kB 14.2 MB/s eta 0:00:01\r\u001b[K     |███████████▏                    | 337 kB 14.2 MB/s eta 0:00:01\r\u001b[K     |███████████▌                    | 348 kB 14.2 MB/s eta 0:00:01\r\u001b[K     |███████████▉                    | 358 kB 14.2 MB/s eta 0:00:01\r\u001b[K     |████████████▏                   | 368 kB 14.2 MB/s eta 0:00:01\r\u001b[K     |████████████▌                   | 378 kB 14.2 MB/s eta 0:00:01\r\u001b[K     |████████████▉                   | 389 kB 14.2 MB/s eta 0:00:01\r\u001b[K     |█████████████▏                  | 399 kB 14.2 MB/s eta 0:00:01\r\u001b[K     |█████████████▌                  | 409 kB 14.2 MB/s eta 0:00:01\r\u001b[K     |█████████████▉                  | 419 kB 14.2 MB/s eta 0:00:01\r\u001b[K     |██████████████▏                 | 430 kB 14.2 MB/s eta 0:00:01\r\u001b[K     |██████████████▌                 | 440 kB 14.2 MB/s eta 0:00:01\r\u001b[K     |██████████████▉                 | 450 kB 14.2 MB/s eta 0:00:01\r\u001b[K     |███████████████▏                | 460 kB 14.2 MB/s eta 0:00:01\r\u001b[K     |███████████████▋                | 471 kB 14.2 MB/s eta 0:00:01\r\u001b[K     |████████████████                | 481 kB 14.2 MB/s eta 0:00:01\r\u001b[K     |████████████████▎               | 491 kB 14.2 MB/s eta 0:00:01\r\u001b[K     |████████████████▋               | 501 kB 14.2 MB/s eta 0:00:01\r\u001b[K     |█████████████████               | 512 kB 14.2 MB/s eta 0:00:01\r\u001b[K     |█████████████████▎              | 522 kB 14.2 MB/s eta 0:00:01\r\u001b[K     |█████████████████▋              | 532 kB 14.2 MB/s eta 0:00:01\r\u001b[K     |██████████████████              | 542 kB 14.2 MB/s eta 0:00:01\r\u001b[K     |██████████████████▎             | 552 kB 14.2 MB/s eta 0:00:01\r\u001b[K     |██████████████████▋             | 563 kB 14.2 MB/s eta 0:00:01\r\u001b[K     |███████████████████             | 573 kB 14.2 MB/s eta 0:00:01\r\u001b[K     |███████████████████▎            | 583 kB 14.2 MB/s eta 0:00:01\r\u001b[K     |███████████████████▋            | 593 kB 14.2 MB/s eta 0:00:01\r\u001b[K     |████████████████████            | 604 kB 14.2 MB/s eta 0:00:01\r\u001b[K     |████████████████████▎           | 614 kB 14.2 MB/s eta 0:00:01\r\u001b[K     |████████████████████▋           | 624 kB 14.2 MB/s eta 0:00:01\r\u001b[K     |█████████████████████           | 634 kB 14.2 MB/s eta 0:00:01\r\u001b[K     |█████████████████████▎          | 645 kB 14.2 MB/s eta 0:00:01\r\u001b[K     |█████████████████████▋          | 655 kB 14.2 MB/s eta 0:00:01\r\u001b[K     |██████████████████████          | 665 kB 14.2 MB/s eta 0:00:01\r\u001b[K     |██████████████████████▎         | 675 kB 14.2 MB/s eta 0:00:01\r\u001b[K     |██████████████████████▋         | 686 kB 14.2 MB/s eta 0:00:01\r\u001b[K     |███████████████████████         | 696 kB 14.2 MB/s eta 0:00:01\r\u001b[K     |███████████████████████▍        | 706 kB 14.2 MB/s eta 0:00:01\r\u001b[K     |███████████████████████▊        | 716 kB 14.2 MB/s eta 0:00:01\r\u001b[K     |████████████████████████        | 727 kB 14.2 MB/s eta 0:00:01\r\u001b[K     |████████████████████████▍       | 737 kB 14.2 MB/s eta 0:00:01\r\u001b[K     |████████████████████████▊       | 747 kB 14.2 MB/s eta 0:00:01\r\u001b[K     |█████████████████████████       | 757 kB 14.2 MB/s eta 0:00:01\r\u001b[K     |█████████████████████████▍      | 768 kB 14.2 MB/s eta 0:00:01\r\u001b[K     |█████████████████████████▊      | 778 kB 14.2 MB/s eta 0:00:01\r\u001b[K     |██████████████████████████      | 788 kB 14.2 MB/s eta 0:00:01\r\u001b[K     |██████████████████████████▍     | 798 kB 14.2 MB/s eta 0:00:01\r\u001b[K     |██████████████████████████▊     | 808 kB 14.2 MB/s eta 0:00:01\r\u001b[K     |███████████████████████████     | 819 kB 14.2 MB/s eta 0:00:01\r\u001b[K     |███████████████████████████▍    | 829 kB 14.2 MB/s eta 0:00:01\r\u001b[K     |███████████████████████████▊    | 839 kB 14.2 MB/s eta 0:00:01\r\u001b[K     |████████████████████████████    | 849 kB 14.2 MB/s eta 0:00:01\r\u001b[K     |████████████████████████████▍   | 860 kB 14.2 MB/s eta 0:00:01\r\u001b[K     |████████████████████████████▊   | 870 kB 14.2 MB/s eta 0:00:01\r\u001b[K     |█████████████████████████████   | 880 kB 14.2 MB/s eta 0:00:01\r\u001b[K     |█████████████████████████████▍  | 890 kB 14.2 MB/s eta 0:00:01\r\u001b[K     |█████████████████████████████▊  | 901 kB 14.2 MB/s eta 0:00:01\r\u001b[K     |██████████████████████████████  | 911 kB 14.2 MB/s eta 0:00:01\r\u001b[K     |██████████████████████████████▍ | 921 kB 14.2 MB/s eta 0:00:01\r\u001b[K     |██████████████████████████████▉ | 931 kB 14.2 MB/s eta 0:00:01\r\u001b[K     |███████████████████████████████▏| 942 kB 14.2 MB/s eta 0:00:01\r\u001b[K     |███████████████████████████████▌| 952 kB 14.2 MB/s eta 0:00:01\r\u001b[K     |███████████████████████████████▉| 962 kB 14.2 MB/s eta 0:00:01\r\u001b[K     |████████████████████████████████| 968 kB 14.2 MB/s \n",
            "\u001b[?25hCollecting trio~=0.17\n",
            "  Downloading trio-0.20.0-py3-none-any.whl (359 kB)\n",
            "\u001b[K     |████████████████████████████████| 359 kB 67.5 MB/s \n",
            "\u001b[?25hCollecting urllib3[secure,socks]~=1.26\n",
            "  Downloading urllib3-1.26.9-py2.py3-none-any.whl (138 kB)\n",
            "\u001b[K     |████████████████████████████████| 138 kB 61.7 MB/s \n",
            "\u001b[?25hCollecting trio-websocket~=0.9\n",
            "  Downloading trio_websocket-0.9.2-py3-none-any.whl (16 kB)\n",
            "Collecting sniffio\n",
            "  Downloading sniffio-1.2.0-py3-none-any.whl (10 kB)\n",
            "Requirement already satisfied: attrs>=19.2.0 in /usr/local/lib/python3.7/dist-packages (from trio~=0.17->selenium) (21.4.0)\n",
            "Requirement already satisfied: sortedcontainers in /usr/local/lib/python3.7/dist-packages (from trio~=0.17->selenium) (2.4.0)\n",
            "Requirement already satisfied: idna in /usr/local/lib/python3.7/dist-packages (from trio~=0.17->selenium) (2.10)\n",
            "Collecting async-generator>=1.9\n",
            "  Downloading async_generator-1.10-py3-none-any.whl (18 kB)\n",
            "Collecting outcome\n",
            "  Downloading outcome-1.1.0-py2.py3-none-any.whl (9.7 kB)\n",
            "Collecting wsproto>=0.14\n",
            "  Downloading wsproto-1.1.0-py3-none-any.whl (24 kB)\n",
            "Requirement already satisfied: PySocks!=1.5.7,<2.0,>=1.5.6 in /usr/local/lib/python3.7/dist-packages (from urllib3[secure,socks]~=1.26->selenium) (1.7.1)\n",
            "Requirement already satisfied: certifi in /usr/local/lib/python3.7/dist-packages (from urllib3[secure,socks]~=1.26->selenium) (2021.10.8)\n",
            "Collecting pyOpenSSL>=0.14\n",
            "  Downloading pyOpenSSL-22.0.0-py2.py3-none-any.whl (55 kB)\n",
            "\u001b[K     |████████████████████████████████| 55 kB 4.2 MB/s \n",
            "\u001b[?25hCollecting cryptography>=1.3.4\n",
            "  Downloading cryptography-36.0.2-cp36-abi3-manylinux_2_24_x86_64.whl (3.6 MB)\n",
            "\u001b[K     |████████████████████████████████| 3.6 MB 57.9 MB/s \n",
            "\u001b[?25hRequirement already satisfied: cffi>=1.12 in /usr/local/lib/python3.7/dist-packages (from cryptography>=1.3.4->urllib3[secure,socks]~=1.26->selenium) (1.15.0)\n",
            "Requirement already satisfied: pycparser in /usr/local/lib/python3.7/dist-packages (from cffi>=1.12->cryptography>=1.3.4->urllib3[secure,socks]~=1.26->selenium) (2.21)\n",
            "Collecting h11<1,>=0.9.0\n",
            "  Downloading h11-0.13.0-py3-none-any.whl (58 kB)\n",
            "\u001b[K     |████████████████████████████████| 58 kB 5.3 MB/s \n",
            "\u001b[?25hRequirement already satisfied: typing-extensions in /usr/local/lib/python3.7/dist-packages (from h11<1,>=0.9.0->wsproto>=0.14->trio-websocket~=0.9->selenium) (3.10.0.2)\n",
            "Installing collected packages: sniffio, outcome, h11, cryptography, async-generator, wsproto, urllib3, trio, pyOpenSSL, trio-websocket, selenium\n",
            "  Attempting uninstall: urllib3\n",
            "    Found existing installation: urllib3 1.24.3\n",
            "    Uninstalling urllib3-1.24.3:\n",
            "      Successfully uninstalled urllib3-1.24.3\n",
            "\u001b[31mERROR: pip's dependency resolver does not currently take into account all the packages that are installed. This behaviour is the source of the following dependency conflicts.\n",
            "requests 2.23.0 requires urllib3!=1.25.0,!=1.25.1,<1.26,>=1.21.1, but you have urllib3 1.26.9 which is incompatible.\n",
            "datascience 0.10.6 requires folium==0.2.1, but you have folium 0.8.3 which is incompatible.\u001b[0m\n",
            "Successfully installed async-generator-1.10 cryptography-36.0.2 h11-0.13.0 outcome-1.1.0 pyOpenSSL-22.0.0 selenium-4.1.3 sniffio-1.2.0 trio-0.20.0 trio-websocket-0.9.2 urllib3-1.26.9 wsproto-1.1.0\n"
          ]
        },
        {
          "output_type": "display_data",
          "data": {
            "application/vnd.colab-display-data+json": {
              "pip_warning": {
                "packages": [
                  "urllib3"
                ]
              }
            }
          },
          "metadata": {}
        },
        {
          "output_type": "stream",
          "name": "stdout",
          "text": [
            "\r0% [Working]\r            \rGet:1 http://ppa.launchpad.net/c2d4u.team/c2d4u4.0+/ubuntu bionic InRelease [15.9 kB]\n",
            "\r0% [Connecting to archive.ubuntu.com] [Waiting for headers] [Connecting to clou\r                                                                               \rGet:2 http://security.ubuntu.com/ubuntu bionic-security InRelease [88.7 kB]\n",
            "\r0% [Connecting to archive.ubuntu.com] [2 InRelease 14.2 kB/88.7 kB 16%] [Connec\r0% [Connecting to archive.ubuntu.com] [2 InRelease 22.9 kB/88.7 kB 26%] [Connec\r0% [1 InRelease gpgv 15.9 kB] [Connecting to archive.ubuntu.com] [2 InRelease 3\r                                                                               \rHit:3 http://ppa.launchpad.net/cran/libgit2/ubuntu bionic InRelease\n",
            "\r0% [1 InRelease gpgv 15.9 kB] [Connecting to archive.ubuntu.com] [2 InRelease 6\r0% [1 InRelease gpgv 15.9 kB] [Connecting to archive.ubuntu.com] [Waiting for h\r                                                                               \rGet:4 https://cloud.r-project.org/bin/linux/ubuntu bionic-cran40/ InRelease [3,626 B]\n",
            "\r0% [1 InRelease gpgv 15.9 kB] [Connecting to archive.ubuntu.com] [4 InRelease 3\r0% [1 InRelease gpgv 15.9 kB] [Connecting to archive.ubuntu.com] [Waiting for h\r                                                                               \rGet:5 http://ppa.launchpad.net/deadsnakes/ppa/ubuntu bionic InRelease [15.9 kB]\n",
            "Get:6 http://ppa.launchpad.net/graphics-drivers/ppa/ubuntu bionic InRelease [21.3 kB]\n",
            "Ign:7 https://developer.download.nvidia.com/compute/cuda/repos/ubuntu1804/x86_64  InRelease\n",
            "Hit:8 http://archive.ubuntu.com/ubuntu bionic InRelease\n",
            "Get:9 http://ppa.launchpad.net/c2d4u.team/c2d4u4.0+/ubuntu bionic/main Sources [1,831 kB]\n",
            "Get:10 http://archive.ubuntu.com/ubuntu bionic-updates InRelease [88.7 kB]\n",
            "Ign:11 https://developer.download.nvidia.com/compute/machine-learning/repos/ubuntu1804/x86_64  InRelease\n",
            "Get:12 https://developer.download.nvidia.com/compute/cuda/repos/ubuntu1804/x86_64  Release [696 B]\n",
            "Hit:13 https://developer.download.nvidia.com/compute/machine-learning/repos/ubuntu1804/x86_64  Release\n",
            "Get:14 https://developer.download.nvidia.com/compute/cuda/repos/ubuntu1804/x86_64  Release.gpg [836 B]\n",
            "Get:15 http://ppa.launchpad.net/c2d4u.team/c2d4u4.0+/ubuntu bionic/main amd64 Packages [938 kB]\n",
            "Get:16 http://archive.ubuntu.com/ubuntu bionic-backports InRelease [74.6 kB]\n",
            "Get:17 http://security.ubuntu.com/ubuntu bionic-security/restricted amd64 Packages [884 kB]\n",
            "Get:18 http://security.ubuntu.com/ubuntu bionic-security/main amd64 Packages [2,694 kB]\n",
            "Get:19 http://security.ubuntu.com/ubuntu bionic-security/universe amd64 Packages [1,490 kB]\n",
            "Get:20 https://cloud.r-project.org/bin/linux/ubuntu bionic-cran40/ Packages [82.3 kB]\n",
            "Get:21 http://ppa.launchpad.net/deadsnakes/ppa/ubuntu bionic/main amd64 Packages [45.2 kB]\n",
            "Get:22 http://ppa.launchpad.net/graphics-drivers/ppa/ubuntu bionic/main amd64 Packages [44.3 kB]\n",
            "Get:24 https://developer.download.nvidia.com/compute/cuda/repos/ubuntu1804/x86_64  Packages [952 kB]\n",
            "Get:25 http://archive.ubuntu.com/ubuntu bionic-updates/restricted amd64 Packages [918 kB]\n",
            "Get:26 http://archive.ubuntu.com/ubuntu bionic-updates/multiverse amd64 Packages [29.8 kB]\n",
            "Get:27 http://archive.ubuntu.com/ubuntu bionic-updates/universe amd64 Packages [2,268 kB]\n",
            "Get:28 http://archive.ubuntu.com/ubuntu bionic-updates/main amd64 Packages [3,134 kB]\n",
            "Get:29 http://archive.ubuntu.com/ubuntu bionic-backports/main amd64 Packages [12.2 kB]\n",
            "Get:30 http://archive.ubuntu.com/ubuntu bionic-backports/universe amd64 Packages [12.9 kB]\n",
            "Fetched 15.6 MB in 3s (5,458 kB/s)\n",
            "Reading package lists... Done\n",
            "Reading package lists... Done\n",
            "Building dependency tree       \n",
            "Reading state information... Done\n",
            "The following additional packages will be installed:\n",
            "  chromium-browser chromium-browser-l10n chromium-codecs-ffmpeg-extra\n",
            "Suggested packages:\n",
            "  webaccounts-chromium-extension unity-chromium-extension\n",
            "The following NEW packages will be installed:\n",
            "  chromium-browser chromium-browser-l10n chromium-chromedriver\n",
            "  chromium-codecs-ffmpeg-extra\n",
            "0 upgraded, 4 newly installed, 0 to remove and 96 not upgraded.\n",
            "Need to get 88.3 MB of archives.\n",
            "After this operation, 294 MB of additional disk space will be used.\n",
            "Get:1 http://archive.ubuntu.com/ubuntu bionic-updates/universe amd64 chromium-codecs-ffmpeg-extra amd64 99.0.4844.84-0ubuntu0.18.04.1 [1,142 kB]\n",
            "Get:2 http://archive.ubuntu.com/ubuntu bionic-updates/universe amd64 chromium-browser amd64 99.0.4844.84-0ubuntu0.18.04.1 [77.7 MB]\n",
            "Get:3 http://archive.ubuntu.com/ubuntu bionic-updates/universe amd64 chromium-browser-l10n all 99.0.4844.84-0ubuntu0.18.04.1 [4,397 kB]\n",
            "Get:4 http://archive.ubuntu.com/ubuntu bionic-updates/universe amd64 chromium-chromedriver amd64 99.0.4844.84-0ubuntu0.18.04.1 [5,092 kB]\n",
            "Fetched 88.3 MB in 3s (25.7 MB/s)\n",
            "Selecting previously unselected package chromium-codecs-ffmpeg-extra.\n",
            "(Reading database ... 156210 files and directories currently installed.)\n",
            "Preparing to unpack .../chromium-codecs-ffmpeg-extra_99.0.4844.84-0ubuntu0.18.04.1_amd64.deb ...\n",
            "Unpacking chromium-codecs-ffmpeg-extra (99.0.4844.84-0ubuntu0.18.04.1) ...\n",
            "Selecting previously unselected package chromium-browser.\n",
            "Preparing to unpack .../chromium-browser_99.0.4844.84-0ubuntu0.18.04.1_amd64.deb ...\n",
            "Unpacking chromium-browser (99.0.4844.84-0ubuntu0.18.04.1) ...\n",
            "Selecting previously unselected package chromium-browser-l10n.\n",
            "Preparing to unpack .../chromium-browser-l10n_99.0.4844.84-0ubuntu0.18.04.1_all.deb ...\n",
            "Unpacking chromium-browser-l10n (99.0.4844.84-0ubuntu0.18.04.1) ...\n",
            "Selecting previously unselected package chromium-chromedriver.\n",
            "Preparing to unpack .../chromium-chromedriver_99.0.4844.84-0ubuntu0.18.04.1_amd64.deb ...\n",
            "Unpacking chromium-chromedriver (99.0.4844.84-0ubuntu0.18.04.1) ...\n",
            "Setting up chromium-codecs-ffmpeg-extra (99.0.4844.84-0ubuntu0.18.04.1) ...\n",
            "Setting up chromium-browser (99.0.4844.84-0ubuntu0.18.04.1) ...\n",
            "update-alternatives: using /usr/bin/chromium-browser to provide /usr/bin/x-www-browser (x-www-browser) in auto mode\n",
            "update-alternatives: using /usr/bin/chromium-browser to provide /usr/bin/gnome-www-browser (gnome-www-browser) in auto mode\n",
            "Setting up chromium-chromedriver (99.0.4844.84-0ubuntu0.18.04.1) ...\n",
            "Setting up chromium-browser-l10n (99.0.4844.84-0ubuntu0.18.04.1) ...\n",
            "Processing triggers for man-db (2.8.3-2ubuntu0.1) ...\n",
            "Processing triggers for hicolor-icon-theme (0.17-2) ...\n",
            "Processing triggers for mime-support (3.60ubuntu1) ...\n",
            "Processing triggers for libc-bin (2.27-3ubuntu1.3) ...\n",
            "/sbin/ldconfig.real: /usr/local/lib/python3.7/dist-packages/ideep4py/lib/libmkldnn.so.0 is not a symbolic link\n",
            "\n",
            "cp: '/usr/lib/chromium-browser/chromedriver' and '/usr/bin/chromedriver' are the same file\n"
          ]
        }
      ]
    },
    {
      "cell_type": "code",
      "source": [
        "data = [] # Biến kết quả có dạng list, nó sẽ chứa các comments crawl về được dưới dạng các chuỗi String.\n",
        "\n",
        "# Mở ChromeDriver lên và thực thi các lệnh sau:\n",
        "with Chrome('chromedriver', options=chrome_options) as driver: \n",
        "  wait = WebDriverWait(driver, 15) # Chương trình sẽ chờ tối đa 15s để đợi element đạt được expected_conditions;\n",
        "  # Khác với sleep(), Nếu chỉ với Ns (trong đó N < 15) mà element đã đạt expected_conditions \n",
        "  # thì chỉ cần sau Ns đó, thao tác tương ứng sẽ được thực hiện ngay\n",
        "  # Lưu ý nếu quá 15s không thực thi xong thì sẽ bị lỗi\n",
        "  driver.get(str(videoURL)) # Chương trình đi tới địa chỉ Url của video cần crawl\n",
        "  \n",
        "  # Ý tưởng chung là Dùng vòng lập để thực hiện: Lăn chuột -> đợi comment hiện lên và crawl nó\n",
        "\n",
        "  # Dò hết comment có thể bắt gặp sau n lần lăn chuột \n",
        "  for item in range(11):\n",
        "    wait.until(expected_conditions.visibility_of_element_located((By.TAG_NAME, \"body\"))).send_keys(Keys.END) # Đợi đến khi thẻ body hiển thị thì thực hiện việc Lăn chuột xuống phía dưới video\n",
        "    time.sleep(15) # Chờ cố định 15 milisecond; để tránh một số trường hợp chương trình chạy quá nhanh, chỉ wait không thì không hiệu quả nên cần thêm Sleep()\n",
        "  \n",
        "  try:\n",
        "    # Lần lượt duyệt qua tất cả thẻ có id là content-text, đẩy comment có trong đó vào biến kết quả data\n",
        "    for comment in wait.until(expected_conditions.presence_of_all_elements_located((By.CSS_SELECTOR, \"#content-text\"))):\n",
        "      if(len(data)>200):\n",
        "        break\n",
        "      else:\n",
        "        data.append(comment.text)\n",
        "  except:\n",
        "    print(\"Đã xảy ra lỗi\")"
      ],
      "metadata": {
        "id": "PPSrA6mMQNiI"
      },
      "execution_count": null,
      "outputs": []
    },
    {
      "cell_type": "code",
      "source": [
        "data[1:10]"
      ],
      "metadata": {
        "colab": {
          "base_uri": "https://localhost:8080/"
        },
        "id": "qy6fDoK_KlBq",
        "outputId": "eae2f8bd-ff28-4373-a4de-a884b9ec43be"
      },
      "execution_count": null,
      "outputs": [
        {
          "output_type": "execute_result",
          "data": {
            "text/plain": [
              "['Hay xem lại cái này để nhớ lại những gì Bùi Tiến Dũng đã làm cho Việt Nam \\nĐừng vì một lỗi sai mà quay lưng lại với thủ môn của chúng ta\\nChán khi thấy mọi người gọi anh là thằng này đứa nọ',\n",
              " 'Ông Cương vs ông Cường bình luận đến ném biên bên sân nhà  cũng hồi hộp =))',\n",
              " 'xem đi xem lại vẫn thấy tự hào về đất nước xinh đẹp mang tên Việt Nam. I want to say, I love Việt Nam',\n",
              " 'Dù đội tuyển hiện giờ có như nào đi nữa.. nhưng ai cũng nhớ vào những ngày tháng năm đó.. có 1 u23 Việt Nam.....,,!!!',\n",
              " 'Xem lại biết bao lần mà cảm xúc vẫn dâng trào như ngày nào luôn, cảm ơn ad đã chia sẻ',\n",
              " '04/12/2019 \\nKhi xem lại thì vẫn không thể giấu đi được cảm xúc, chính nhờ lứa U23 này đã khiến tôi có niềm tin hơn vào nền bóng đá VN. Và bây giờ đang là Sea Games 30 tôi mong U22 VN cũng sẽ làm rạng danh đất nước. Cảm ơn các bạn thật nhiều ',\n",
              " 'Ai vừa xem lại khi Việt Nam vào chung kết AFF không, cảm xúc vẫn ùa về như vừa xem trực tiếp xong.',\n",
              " '10/12/2019 tấm HCV Seagame 30 với thành tích bất bại sau 60 năm chờ đợi, tôi đã xem lại tất cả hành trình hơn 2 năm và nước mắt tôi vẫn rơi. \\nNgàn vạn lời cảm ơn chân thành xin gởi đến HLV Park Hang Seo (thầy Park của bóng đá VN)',\n",
              " 'Xem lại vừa nổi da gà vừa rơi nước mắt ️']"
            ]
          },
          "metadata": {},
          "execution_count": 11
        }
      ]
    },
    {
      "cell_type": "code",
      "source": [
        "# Xem thử 5 hàng đầu của dữ liệu crawl về\n",
        "for i in range(5):\n",
        "  print(\"Dòng \" + str(i+1) + \": \", data[i])"
      ],
      "metadata": {
        "id": "o0DKb_MSrcQn",
        "colab": {
          "base_uri": "https://localhost:8080/"
        },
        "outputId": "ea9c1725-24cb-43b5-8451-e7819556e866"
      },
      "execution_count": null,
      "outputs": [
        {
          "output_type": "stream",
          "name": "stdout",
          "text": [
            "Dòng 1:  Thấy nhiều bạn hỏi bài nhạc mình cho các bạn tên bài luôn nha:\n",
            "1.  Moonlight sonata-beethoven\n",
            "2. Epic legend\n",
            "3. Breath and life\n",
            "Dòng 2:  Hay xem lại cái này để nhớ lại những gì Bùi Tiến Dũng đã làm cho Việt Nam \n",
            "Đừng vì một lỗi sai mà quay lưng lại với thủ môn của chúng ta\n",
            "Chán khi thấy mọi người gọi anh là thằng này đứa nọ\n",
            "Dòng 3:  Ông Cương vs ông Cường bình luận đến ném biên bên sân nhà  cũng hồi hộp =))\n",
            "Dòng 4:  xem đi xem lại vẫn thấy tự hào về đất nước xinh đẹp mang tên Việt Nam. I want to say, I love Việt Nam\n",
            "Dòng 5:  Dù đội tuyển hiện giờ có như nào đi nữa.. nhưng ai cũng nhớ vào những ngày tháng năm đó.. có 1 u23 Việt Nam.....,,!!!\n"
          ]
        }
      ]
    },
    {
      "cell_type": "code",
      "source": [
        "# Ghi dữ liệu crawl về được ra file csv:\n",
        "import pandas as pd \n",
        "dataset_path = \"/content/gdrive/MyDrive/libPy/youtube_comment_dataset.csv\" # Đường dẫn đến file dữ liệu dataset trên Google Drive\n",
        "\n",
        "df = pd.DataFrame(data, columns=['Comment'])\n",
        "df.to_csv(dataset_path)\n",
        "print(df.head())"
      ],
      "metadata": {
        "id": "OKqPV-lIQPcx",
        "colab": {
          "base_uri": "https://localhost:8080/"
        },
        "outputId": "128614af-717c-458b-f82c-758bc5891f22"
      },
      "execution_count": null,
      "outputs": [
        {
          "output_type": "stream",
          "name": "stdout",
          "text": [
            "                                             Comment\n",
            "0  Thấy nhiều bạn hỏi bài nhạc mình cho các bạn t...\n",
            "1  Hay xem lại cái này để nhớ lại những gì Bùi Ti...\n",
            "2  Ông Cương vs ông Cường bình luận đến ném biên ...\n",
            "3  xem đi xem lại vẫn thấy tự hào về đất nước xin...\n",
            "4  Dù đội tuyển hiện giờ có như nào đi nữa.. nhưn...\n"
          ]
        }
      ]
    },
    {
      "cell_type": "markdown",
      "source": [
        "3.2. Apply text preprocessing techniques and TF-IDF for feature extraction of the first 200 comments."
      ],
      "metadata": {
        "id": "GzCYFaJewBN6"
      }
    },
    {
      "cell_type": "code",
      "source": [
        "# Kiểm tra đơn giản thử xem đã có file dữ liệu hay chưa:\n",
        "import os\n",
        "\n",
        "import pandas as pd\n",
        "dataset_path = \"/content/gdrive/MyDrive/libPy/youtube_comment_dataset.csv\" # Đường dẫn đến file dữ liệu dataset trên Google Drive\n",
        "\n",
        "if(os.path.exists(dataset_path) and os.path.isfile(dataset_path)):\n",
        "  file_check = pd.read_csv(dataset_path)\n",
        "  print(file_check)\n",
        "else:\n",
        "  print(\"Không tìm thấy Dataset!\")"
      ],
      "metadata": {
        "colab": {
          "base_uri": "https://localhost:8080/"
        },
        "id": "JGcNSCXHfTe8",
        "outputId": "0c071da5-3d38-4de8-86a2-941a94f899cd"
      },
      "execution_count": null,
      "outputs": [
        {
          "output_type": "stream",
          "name": "stdout",
          "text": [
            "     Unnamed: 0                                            Comment\n",
            "0             0  Thấy nhiều bạn hỏi bài nhạc mình cho các bạn t...\n",
            "1             1  Hay xem lại cái này để nhớ lại những gì Bùi Ti...\n",
            "2             2  Ông Cương vs ông Cường bình luận đến ném biên ...\n",
            "3             3  xem đi xem lại vẫn thấy tự hào về đất nước xin...\n",
            "4             4  Dù đội tuyển hiện giờ có như nào đi nữa.. nhưn...\n",
            "..          ...                                                ...\n",
            "195         195                                       Đầy cảm xúc \n",
            "196         196                            Mạnh mẽ lên các anh ️️️\n",
            "197         197  Bị loại ngay vòng ngoài của SeaGame 29 mà lại ...\n",
            "198         198  Đoạn Công Phượng trả lời phỏng vấn mà thương ghê.\n",
            "199         199                           Xem lại vẫn xúc động vl \n",
            "\n",
            "[200 rows x 2 columns]\n"
          ]
        }
      ]
    },
    {
      "cell_type": "code",
      "source": [
        "# Đọc dữ liệu từ file dataset\n",
        "import csv\n",
        "comments_list = [] # Một biến list chứa các comment dưới dạng string\n",
        "\n",
        "with open(dataset_path, newline='') as inputfile:\n",
        "    for row in csv.reader(inputfile):\n",
        "      if(len(comments_list)<201):\n",
        "        comments_list.append(row[1])\n",
        "      else:\n",
        "        break\n",
        "\n",
        "comments_list.pop(0) # Xóa nhãn label\n",
        "print(\"Số lượng comment: \", len(comments_list))\n",
        "print(\"comments = \", comments_list[0:10])"
      ],
      "metadata": {
        "id": "H5dBdIY--9po",
        "colab": {
          "base_uri": "https://localhost:8080/"
        },
        "outputId": "aa481788-4410-439c-e64d-914809f1113e"
      },
      "execution_count": null,
      "outputs": [
        {
          "output_type": "stream",
          "name": "stdout",
          "text": [
            "Số lượng comment:  200\n",
            "comments =  ['Thấy nhiều bạn hỏi bài nhạc mình cho các bạn tên bài luôn nha:\\n1.  Moonlight sonata-beethoven\\n2. Epic legend\\n3. Breath and life', 'Hay xem lại cái này để nhớ lại những gì Bùi Tiến Dũng đã làm cho Việt Nam \\nĐừng vì một lỗi sai mà quay lưng lại với thủ môn của chúng ta\\nChán khi thấy mọi người gọi anh là thằng này đứa nọ', 'Ông Cương vs ông Cường bình luận đến ném biên bên sân nhà  cũng hồi hộp =))', 'xem đi xem lại vẫn thấy tự hào về đất nước xinh đẹp mang tên Việt Nam. I want to say, I love Việt Nam', 'Dù đội tuyển hiện giờ có như nào đi nữa.. nhưng ai cũng nhớ vào những ngày tháng năm đó.. có 1 u23 Việt Nam.....,,!!!', 'Xem lại biết bao lần mà cảm xúc vẫn dâng trào như ngày nào luôn, cảm ơn ad đã chia sẻ', '04/12/2019 \\nKhi xem lại thì vẫn không thể giấu đi được cảm xúc, chính nhờ lứa U23 này đã khiến tôi có niềm tin hơn vào nền bóng đá VN. Và bây giờ đang là Sea Games 30 tôi mong U22 VN cũng sẽ làm rạng danh đất nước. Cảm ơn các bạn thật nhiều ', 'Ai vừa xem lại khi Việt Nam vào chung kết AFF không, cảm xúc vẫn ùa về như vừa xem trực tiếp xong.', '10/12/2019 tấm HCV Seagame 30 với thành tích bất bại sau 60 năm chờ đợi, tôi đã xem lại tất cả hành trình hơn 2 năm và nước mắt tôi vẫn rơi. \\nNgàn vạn lời cảm ơn chân thành xin gởi đến HLV Park Hang Seo (thầy Park của bóng đá VN)', 'Xem lại vừa nổi da gà vừa rơi nước mắt ️']\n"
          ]
        }
      ]
    },
    {
      "cell_type": "code",
      "source": [
        "import regex as re\n",
        "\n",
        "# Xóa code HTML có trong dữ liệu\n",
        "def remove_html(text):\n",
        "  return re.sub(r'<[^>]*>', '', text)\n",
        "\n",
        "def remove_html_main(C_list):\n",
        "  result = []\n",
        "  for i in range(len(C_list)):\n",
        "    result.append(remove_html(C_list[i]))\n",
        "  return result\n",
        "\n",
        "# Ví dụ\n",
        "html_example = ['<p class=\\\"par\\\">Ví dụ 1</p>', '<h>Ví dụ 2<h><br>']\n",
        "print(remove_html_main(html_example))"
      ],
      "metadata": {
        "id": "26CwpiYXwDFn",
        "colab": {
          "base_uri": "https://localhost:8080/"
        },
        "outputId": "51ca1647-d3f8-4c79-f12d-74fd0e1daf41"
      },
      "execution_count": null,
      "outputs": [
        {
          "output_type": "stream",
          "name": "stdout",
          "text": [
            "['Ví dụ 1', 'Ví dụ 2']\n"
          ]
        }
      ]
    },
    {
      "cell_type": "code",
      "source": [
        "import regex as re\n",
        "\n",
        "uniChars = \"àáảãạâầấẩẫậăằắẳẵặèéẻẽẹêềếểễệđìíỉĩịòóỏõọôồốổỗộơờớởỡợùúủũụưừứửữựỳýỷỹỵÀÁẢÃẠÂẦẤẨẪẬĂẰẮẲẴẶÈÉẺẼẸÊỀẾỂỄỆĐÌÍỈĨỊÒÓỎÕỌÔỒỐỔỖỘƠỜỚỞỠỢÙÚỦŨỤƯỪỨỬỮỰỲÝỶỸỴÂĂĐÔƠƯ\"\n",
        "unsignChars = \"aaaaaaaaaaaaaaaaaeeeeeeeeeeediiiiiooooooooooooooooouuuuuuuuuuuyyyyyAAAAAAAAAAAAAAAAAEEEEEEEEEEEDIIIOOOOOOOOOOOOOOOOOOOUUUUUUUUUUUYYYYYAADOOU\"\n",
        "\n",
        "def loaddicchar():\n",
        "  dic = {}\n",
        "  char1252 = 'à|á|ả|ã|ạ|ầ|ấ|ẩ|ẫ|ậ|ằ|ắ|ẳ|ẵ|ặ|è|é|ẻ|ẽ|ẹ|ề|ế|ể|ễ|ệ|ì|í|ỉ|ĩ|ị|ò|ó|ỏ|õ|ọ|ồ|ố|ổ|ỗ|ộ|ờ|ớ|ở|ỡ|ợ|ù|ú|ủ|ũ|ụ|ừ|ứ|ử|ữ|ự|ỳ|ý|ỷ|ỹ|ỵ|À|Á|Ả|Ã|Ạ|Ầ|Ấ|Ẩ|Ẫ|Ậ|Ằ|Ắ|Ẳ|Ẵ|Ặ|È|É|Ẻ|Ẽ|Ẹ|Ề|Ế|Ể|Ễ|Ệ|Ì|Í|Ỉ|Ĩ|Ị|Ò|Ó|Ỏ|Õ|Ọ|Ồ|Ố|Ổ|Ỗ|Ộ|Ờ|Ớ|Ở|Ỡ|Ợ|Ù|Ú|Ủ|Ũ|Ụ|Ừ|Ứ|Ử|Ữ|Ự|Ỳ|Ý|Ỷ|Ỹ|Ỵ'.split('|')\n",
        "  charutf8 = \"à|á|ả|ã|ạ|ầ|ấ|ẩ|ẫ|ậ|ằ|ắ|ẳ|ẵ|ặ|è|é|ẻ|ẽ|ẹ|ề|ế|ể|ễ|ệ|ì|í|ỉ|ĩ|ị|ò|ó|ỏ|õ|ọ|ồ|ố|ổ|ỗ|ộ|ờ|ớ|ở|ỡ|ợ|ù|ú|ủ|ũ|ụ|ừ|ứ|ử|ữ|ự|ỳ|ý|ỷ|ỹ|ỵ|À|Á|Ả|Ã|Ạ|Ầ|Ấ|Ẩ|Ẫ|Ậ|Ằ|Ắ|Ẳ|Ẵ|Ặ|È|É|Ẻ|Ẽ|Ẹ|Ề|Ế|Ể|Ễ|Ệ|Ì|Í|Ỉ|Ĩ|Ị|Ò|Ó|Ỏ|Õ|Ọ|Ồ|Ố|Ổ|Ỗ|Ộ|Ờ|Ớ|Ở|Ỡ|Ợ|Ù|Ú|Ủ|Ũ|Ụ|Ừ|Ứ|Ử|Ữ|Ự|Ỳ|Ý|Ỷ|Ỹ|Ỵ\".split('|')\n",
        "  for i in range(len(char1252)):\n",
        "    dic[char1252[i]] = charutf8[i]\n",
        "  return dic\n",
        "  \n",
        "dicchar = loaddicchar()\n",
        "# Chuẩn hóa bảng mã tiếng Việt\n",
        "def covert_unicode(text):\n",
        "  return re.sub(r'à|á|ả|ã|ạ|ầ|ấ|ẩ|ẫ|ậ|ằ|ắ|ẳ|ẵ|ặ|è|é|ẻ|ẽ|ẹ|ề|ế|ể|ễ|ệ|ì|í|ỉ|ĩ|ị|ò|ó|ỏ|õ|ọ|ồ|ố|ổ|ỗ|ộ|ờ|ớ|ở|ỡ|ợ|ù|ú|ủ|ũ|ụ|ừ|ứ|ử|ữ|ự|ỳ|ý|ỷ|ỹ|ỵ|À|Á|Ả|Ã|Ạ|Ầ|Ấ|Ẩ|Ẫ|Ậ|Ằ|Ắ|Ẳ|Ẵ|Ặ|È|É|Ẻ|Ẽ|Ẹ|Ề|Ế|Ể|Ễ|Ệ|Ì|Í|Ỉ|Ĩ|Ị|Ò|Ó|Ỏ|Õ|Ọ|Ồ|Ố|Ổ|Ỗ|Ộ|Ờ|Ớ|Ở|Ỡ|Ợ|Ù|Ú|Ủ|Ũ|Ụ|Ừ|Ứ|Ử|Ữ|Ự|Ỳ|Ý|Ỷ|Ỹ|Ỵ', \n",
        "                lambda x: dicchar[x.group()], text)\n",
        "\n",
        "def covert_unicode_main(C_list):\n",
        "  result = []\n",
        "  for i in range(len(C_list)):\n",
        "    result.append(covert_unicode(C_list[i]))\n",
        "  return result\n",
        "\n",
        "# Ví dụ:\n",
        "unicode_example = ['Thái', 'Thái']\n",
        "print(unicode_example[0] == unicode_example[1])\n",
        "print(unicode_example[0] == covert_unicode(unicode_example[1]))\n",
        "print(len(unicode_example[0]), \":\", len(unicode_example[1]))"
      ],
      "metadata": {
        "id": "YPmtPNzKcW0a",
        "colab": {
          "base_uri": "https://localhost:8080/"
        },
        "outputId": "d8884540-039e-4adb-9f6c-4656d3ab6208"
      },
      "execution_count": null,
      "outputs": [
        {
          "output_type": "stream",
          "name": "stdout",
          "text": [
            "False\n",
            "True\n",
            "4 : 5\n"
          ]
        }
      ]
    },
    {
      "cell_type": "code",
      "source": [
        "# Word Tokenize\n",
        "def word_tokenize_list(C_list):\n",
        "  result = []\n",
        "  for i in range(len(C_list)):\n",
        "    x = word_tokenize(C_list[i])\n",
        "    for j in range(len(x)):\n",
        "      result.append(x[j])\n",
        "  return result"
      ],
      "metadata": {
        "id": "3SmwV67KP6sl"
      },
      "execution_count": null,
      "outputs": []
    },
    {
      "cell_type": "code",
      "source": [
        "# Đổi tất cả từ về dạng chữ thường\n",
        "def all_word_lowercase_main(C_list):\n",
        "  result = []\n",
        "  for i in range(len(C_list)):\n",
        "    result.append(C_list[i].lower())\n",
        "  return result"
      ],
      "metadata": {
        "id": "yS4Ulhl1MDLY"
      },
      "execution_count": null,
      "outputs": []
    },
    {
      "cell_type": "code",
      "source": [
        "import regex as re\n",
        "\n",
        "# Xóa các biểu tượng đặc biệt\n",
        "def strip_emoji(text):\n",
        "  EMOJI_PATTERN = re.compile(\n",
        "    \"([\"\n",
        "    \"\\U0001F1E0-\\U0001F1FF\"  # flags (iOS)\n",
        "    \"\\U0001F300-\\U0001F5FF\"  # symbols & pictographs\n",
        "    \"\\U0001F600-\\U0001F64F\"  # emoticons\n",
        "    \"\\U0001F680-\\U0001F6FF\"  # transport & map symbols\n",
        "    \"\\U0001F700-\\U0001F77F\"  # alchemical symbols\n",
        "    \"\\U0001F780-\\U0001F7FF\"  # Geometric Shapes Extended\n",
        "    \"\\U0001F800-\\U0001F8FF\"  # Supplemental Arrows-C\n",
        "    \"\\U0001F900-\\U0001F9FF\"  # Supplemental Symbols and Pictographs\n",
        "    \"\\U0001FA00-\\U0001FA6F\"  # Chess Symbols\n",
        "    \"\\U0001FA70-\\U0001FAFF\"  # Symbols and Pictographs Extended-A\n",
        "    \"\\U00002702-\\U000027B0\"  # Dingbats\n",
        "    \"])\"\n",
        "  )\n",
        "  text = re.sub(EMOJI_PATTERN, r'', text)\n",
        "  return text\n",
        "\n",
        "def strip_emoji_main(C_list):\n",
        "  result = []\n",
        "  for i in range(len(C_list)):\n",
        "    result.append(strip_emoji(C_list[i]))\n",
        "  return result\n",
        "\n",
        "emoji_example = [\"😍Hello😍\", \"Pros🙏trate\"]\n",
        "print(strip_emoji_main(emoji_example))"
      ],
      "metadata": {
        "id": "fXWIzqDigCxK",
        "colab": {
          "base_uri": "https://localhost:8080/"
        },
        "outputId": "ec900ecd-71a3-4724-90d9-2a64c744b9e1"
      },
      "execution_count": null,
      "outputs": [
        {
          "output_type": "stream",
          "name": "stdout",
          "text": [
            "['Hello', 'Prostrate']\n"
          ]
        }
      ]
    },
    {
      "cell_type": "code",
      "source": [
        "# Stopword\n",
        "stopword_path = \"/content/gdrive/MyDrive/libPy/vietnamese-stopwords.txt\" # Đường dẫn đến file dữ liệu stopword trên Google Drive\n",
        "with open(stopword_path, 'r') as file:\n",
        "  raw = file.read().replace('\\n', ';')\n",
        "  STOPWORDS = raw.split(\";\")\n",
        "\n",
        "def remove_stopword_main(C_list):\n",
        "  result = []\n",
        "  for i in range(len(C_list)):\n",
        "    if C_list[i] not in STOPWORDS:\n",
        "      result.append(C_list[i])\n",
        "  return result\n",
        "\n",
        "print(STOPWORDS[0:5])"
      ],
      "metadata": {
        "id": "ssVDZ8GKpWAx",
        "colab": {
          "base_uri": "https://localhost:8080/"
        },
        "outputId": "a5f69c6d-ebb0-4d04-cc00-e0a2a6c6404e"
      },
      "execution_count": null,
      "outputs": [
        {
          "output_type": "stream",
          "name": "stdout",
          "text": [
            "['a lô', 'a ha', 'ai', 'ai ai', 'ai nấy']\n"
          ]
        }
      ]
    },
    {
      "cell_type": "code",
      "source": [
        "# Xóa dấu câu\n",
        "daucau = '''!()-[]{};:'\"\\,<>./?@#$%^&*_~...='''\n",
        "\n",
        "def remove_punctutation_list(C_list):\n",
        "  result = []\n",
        "  for i in range(len(C_list)):\n",
        "    for j in C_list[i]:\n",
        "      if j in daucau:\n",
        "        C_list[i] = C_list[i].replace(j, \"\")\n",
        "    \n",
        "    result.append(C_list[i])\n",
        "  return result\n",
        "\n",
        "# Ví dụ\n",
        "punctutation_example = [\"ví@# !$%dụ =1=\", \"ví dụ &2\"]\n",
        "print(remove_punctutation_list(punctutation_example))"
      ],
      "metadata": {
        "id": "A2o6uEVZmhaB",
        "colab": {
          "base_uri": "https://localhost:8080/"
        },
        "outputId": "7b6a2335-a826-42eb-ada8-91ca869f288b"
      },
      "execution_count": null,
      "outputs": [
        {
          "output_type": "stream",
          "name": "stdout",
          "text": [
            "['ví dụ 1', 'ví dụ 2']\n"
          ]
        }
      ]
    },
    {
      "cell_type": "code",
      "source": [
        "# Xóa các số có trong list\n",
        "def number_remove_main(C_list):\n",
        "  result = []\n",
        "  for i in range(len(C_list)):\n",
        "    result.append(re.sub(r'\\d+', '', C_list[i]))\n",
        "  return result\n",
        "\n",
        "# Ví dụ\n",
        "num_example = [\"123456\", \"0U0\", \"Hel7lo\"]\n",
        "print(number_remove_main(num_example))"
      ],
      "metadata": {
        "id": "tlxr_RvShb9L",
        "colab": {
          "base_uri": "https://localhost:8080/"
        },
        "outputId": "b7737df6-6c76-4ac1-b6ff-bab749b86b6b"
      },
      "execution_count": null,
      "outputs": [
        {
          "output_type": "stream",
          "name": "stdout",
          "text": [
            "['', 'U', 'Hello']\n"
          ]
        }
      ]
    },
    {
      "cell_type": "code",
      "source": [
        "# Xóa khoảng trắng thừa\n",
        "def extra_whitespace_remove_main(C_list):\n",
        "  result = []\n",
        "  for i in range(len(C_list)):\n",
        "    result.append(re.sub(r'\\s+', ' ', C_list[i].strip()))\n",
        "  return result\n",
        "\n",
        "# Ví dụ\n",
        "whitespace_example = [\" Ví dụ 1 \", \"Ví   dụ   2\", \"   Ví dụ   3\"]\n",
        "print(extra_whitespace_remove_main(whitespace_example))"
      ],
      "metadata": {
        "id": "Jei2x5tKEMcW",
        "colab": {
          "base_uri": "https://localhost:8080/"
        },
        "outputId": "cddc2c50-5be4-4f2e-e8ce-2e845712a760"
      },
      "execution_count": null,
      "outputs": [
        {
          "output_type": "stream",
          "name": "stdout",
          "text": [
            "['Ví dụ 1', 'Ví dụ 2', 'Ví dụ 3']\n"
          ]
        }
      ]
    },
    {
      "cell_type": "code",
      "source": [
        "# Xóa các chuỗi rỗng trong list dữ liệu dataset\n",
        "def remove_emptyStr(C_list):\n",
        "  result = []\n",
        "  for i in range(len(C_list)):\n",
        "    if (C_list[i]!='' and C_list[i]!=' ' and C_list[i]!='️' and C_list[i]!='️ ️' and C_list[i]!='️ ️ ️' and C_list[i]!='️ ️ ️ ️ ️'):\n",
        "      result.append(C_list[i])\n",
        "  return result\n",
        "\n",
        "# Ví dụ\n",
        "EmpStr_example = ['', 'Ví dụ 2', '️']\n",
        "print(EmpStr_example[0] == EmpStr_example[1])\n",
        "print(len(EmpStr_example[0]), \":\", len(EmpStr_example[1]))\n",
        "print(remove_emptyStr(EmpStr_example))"
      ],
      "metadata": {
        "id": "bmGuTYh0jdgj",
        "colab": {
          "base_uri": "https://localhost:8080/"
        },
        "outputId": "1989ca11-8858-4c57-c114-caa50daf7684"
      },
      "execution_count": null,
      "outputs": [
        {
          "output_type": "stream",
          "name": "stdout",
          "text": [
            "False\n",
            "0 : 7\n",
            "['Ví dụ 2']\n"
          ]
        }
      ]
    },
    {
      "cell_type": "code",
      "source": [
        "!pip install underthesea # cài đặt Thư viện NLP dành cho tiếng Việt"
      ],
      "metadata": {
        "colab": {
          "base_uri": "https://localhost:8080/",
          "height": 783
        },
        "id": "SGoWz3NCEm7N",
        "outputId": "bf5bde52-e01f-48ad-edd6-6f8f5a990f8f"
      },
      "execution_count": null,
      "outputs": [
        {
          "output_type": "stream",
          "name": "stdout",
          "text": [
            "Collecting underthesea\n",
            "  Downloading underthesea-1.3.4-py3-none-any.whl (7.6 MB)\n",
            "\u001b[K     |████████████████████████████████| 7.6 MB 11.6 MB/s \n",
            "\u001b[?25hCollecting underthesea-core==0.0.4_alpha.10\n",
            "  Downloading underthesea_core-0.0.4_alpha.10-cp37-cp37m-manylinux2010_x86_64.whl (581 kB)\n",
            "\u001b[K     |████████████████████████████████| 581 kB 79.0 MB/s \n",
            "\u001b[?25hRequirement already satisfied: PyYAML in /usr/local/lib/python3.7/dist-packages (from underthesea) (3.13)\n",
            "Requirement already satisfied: joblib in /usr/local/lib/python3.7/dist-packages (from underthesea) (1.1.0)\n",
            "Requirement already satisfied: nltk in /usr/local/lib/python3.7/dist-packages (from underthesea) (3.2.5)\n",
            "Requirement already satisfied: requests in /usr/local/lib/python3.7/dist-packages (from underthesea) (2.23.0)\n",
            "Requirement already satisfied: Click>=6.0 in /usr/local/lib/python3.7/dist-packages (from underthesea) (7.1.2)\n",
            "Collecting unidecode\n",
            "  Downloading Unidecode-1.3.4-py3-none-any.whl (235 kB)\n",
            "\u001b[K     |████████████████████████████████| 235 kB 80.3 MB/s \n",
            "\u001b[?25hRequirement already satisfied: scikit-learn in /usr/local/lib/python3.7/dist-packages (from underthesea) (1.0.2)\n",
            "Collecting python-crfsuite>=0.9.6\n",
            "  Downloading python_crfsuite-0.9.8-cp37-cp37m-manylinux_2_17_x86_64.manylinux2014_x86_64.whl (965 kB)\n",
            "\u001b[K     |████████████████████████████████| 965 kB 82.9 MB/s \n",
            "\u001b[?25hRequirement already satisfied: tqdm in /usr/local/lib/python3.7/dist-packages (from underthesea) (4.63.0)\n",
            "Requirement already satisfied: six in /usr/local/lib/python3.7/dist-packages (from nltk->underthesea) (1.15.0)\n",
            "Requirement already satisfied: certifi>=2017.4.17 in /usr/local/lib/python3.7/dist-packages (from requests->underthesea) (2021.10.8)\n",
            "Requirement already satisfied: idna<3,>=2.5 in /usr/local/lib/python3.7/dist-packages (from requests->underthesea) (2.10)\n",
            "Collecting urllib3!=1.25.0,!=1.25.1,<1.26,>=1.21.1\n",
            "  Downloading urllib3-1.25.11-py2.py3-none-any.whl (127 kB)\n",
            "\u001b[K     |████████████████████████████████| 127 kB 55.9 MB/s \n",
            "\u001b[?25hRequirement already satisfied: chardet<4,>=3.0.2 in /usr/local/lib/python3.7/dist-packages (from requests->underthesea) (3.0.4)\n",
            "Requirement already satisfied: numpy>=1.14.6 in /usr/local/lib/python3.7/dist-packages (from scikit-learn->underthesea) (1.21.5)\n",
            "Requirement already satisfied: threadpoolctl>=2.0.0 in /usr/local/lib/python3.7/dist-packages (from scikit-learn->underthesea) (3.1.0)\n",
            "Requirement already satisfied: scipy>=1.1.0 in /usr/local/lib/python3.7/dist-packages (from scikit-learn->underthesea) (1.4.1)\n",
            "Installing collected packages: urllib3, unidecode, underthesea-core, python-crfsuite, underthesea\n",
            "  Attempting uninstall: urllib3\n",
            "    Found existing installation: urllib3 1.26.9\n",
            "    Uninstalling urllib3-1.26.9:\n",
            "      Successfully uninstalled urllib3-1.26.9\n",
            "\u001b[31mERROR: pip's dependency resolver does not currently take into account all the packages that are installed. This behaviour is the source of the following dependency conflicts.\n",
            "selenium 4.1.3 requires urllib3[secure,socks]~=1.26, but you have urllib3 1.25.11 which is incompatible.\n",
            "datascience 0.10.6 requires folium==0.2.1, but you have folium 0.8.3 which is incompatible.\u001b[0m\n",
            "Successfully installed python-crfsuite-0.9.8 underthesea-1.3.4 underthesea-core-0.0.4a10 unidecode-1.3.4 urllib3-1.25.11\n"
          ]
        },
        {
          "output_type": "display_data",
          "data": {
            "application/vnd.colab-display-data+json": {
              "pip_warning": {
                "packages": [
                  "urllib3"
                ]
              }
            }
          },
          "metadata": {}
        }
      ]
    },
    {
      "cell_type": "code",
      "source": [
        "from underthesea import word_tokenize\n",
        "\n",
        "def text_preprocess(document):\n",
        "  com_list1 = remove_html_main(document) # Xóa các phần tử HTML nếu có\n",
        "  com_list2 = covert_unicode_main(com_list1) # Chuẩn hóa các từ để máy không bị nhầm lẫn\n",
        "  com_list3 = word_tokenize_list(com_list2) # Tách từ trong câu\n",
        "  com_list4 = all_word_lowercase_main(com_list3) # Chuyển tất cả về chữ thường\n",
        "  com_list5 = strip_emoji_main(com_list4) # Xóa các ký tự đặc biệt nếu có\n",
        "  com_list6 = remove_stopword_main(com_list5) # Xóa các từ không quan trọng trong tiếng Việt\n",
        "  com_list7 = remove_punctutation_list(com_list6) # Xóa các dấu câu\n",
        "  com_list8 = number_remove_main(com_list7) # Xóa số khỏi chuỗi\n",
        "  com_list9 = extra_whitespace_remove_main(com_list8) # Xóa các khoảng trắng liên tục trong câu nếu có\n",
        "  com_list10 = remove_emptyStr(com_list9) # Xóa các chuỗi rỗng\n",
        "  return com_list10\n",
        "\n",
        "new_comments_list = text_preprocess(comments_list)\n",
        "print(new_comments_list)\n",
        "print(\"Length: \", len(new_comments_list))"
      ],
      "metadata": {
        "id": "skzFNaHlcfmJ",
        "colab": {
          "base_uri": "https://localhost:8080/"
        },
        "outputId": "0ba5419d-11de-48ef-c010-23315c868bda"
      },
      "execution_count": null,
      "outputs": [
        {
          "output_type": "stream",
          "name": "stdout",
          "text": [
            "['nhạc', 'nha', 'moonlight', 'sonatabeethoven', 'epic', 'legend', 'breath', 'and', 'life', 'bùi tiến dũng', 'việt nam', 'đừng', 'lỗi', 'sai', 'lưng', 'thủ môn', 'chán', 'gọi', 'thằng', 'đứa', 'cương', 'vs', 'cường', 'bình luận', 'ném biên', 'sân nhà', 'hồi hộp', 'đi', 'tự hào', 'đất nước', 'xinh đẹp', 'việt nam', 'i', 'want', 'to', 'say', 'i', 'love', 'việt nam', 'đội tuyển', 'hiện giờ', 'đi', 'u', 'việt nam', 'cảm xúc', 'dâng', 'trào', 'ad', 'giấu', 'đi', 'cảm xúc', 'lứa', 'u', 'niềm', 'bóng đá', 'vn', 'sea games', 'mong', 'u', 'vn', 'rạng danh', 'đất nước', 'cảm ơn', 'việt nam', 'chung kết', 'aff', 'cảm xúc', 'ùa', 'xong', 'hcv', 'seagame', 'thành tích', 'bất', 'bại', 'chờ đợi', 'hành trình', 'nước mắt', 'rơi', 'ngàn', 'vạn', 'chân thành', 'gởi', 'hlv', 'park', 'hang', 'seo', 'thầy', 'park', 'bóng đá', 'vn', 'nổi', 'da gà', 'rơi', 'nước mắt', 'nổi', 'da gà', 'tự hào', 'việt nam', 'cám ơn', 'park hangseo', 'việt nam', 'cám ơn', 'huấn luyện', 'con người', 'tài năng', 'kia', 'bộc lộ', 'tài năng', 'ẩn', 'toả', 'sân', 'bóng', 'nghĩa', 'nổi', 'da gà', 'ủng hộ', 'bóng đá', 'việt nam', 'nhắc', 'thường châu tuyết', 'trắng', 'sương', 'pha', 'bạc', 'mái', 'đầu', 'mười', 'mấy', 'dũng sĩ', 'lao', 'ngược gió', 'để đời', 'kính phục', 'mãi', 'nổi', 'da gà', 'quá đỗi', 'tự hào', 'cảm ơn', 'hlv', 'pak', 'hang', 'seo', 'đội tuyển', 'việt nam', 'nổi', 'da', 'gà', 'tự hào', 'xúc động', 'việt nam', 'ơiiiiiiiii', 'chân thành', 'hlv', 'park', 'hang', 'seo ️', 'lứa', 'cầu thủ', 'họ', 'đoàn kết', 'gia đình', 'nữa thôi', 'mong', 'u', 'tái lập', 'kì tích', 'tham dự', 'olympic', 'tokyo', 'tin việt nam', 'ngập', 'tràn', 'cảm xúc', 'xúc động', 'cầu thủ', 'u', 'việt nam', 'thi đấu', 'hết mình', 'đem', 'trận', 'đấu', 'tuyệt vời', 'khoảnh khắc', 'cảm xúc', 'quên', 'u', 'gắn kết', 'đem', 'niềm', 'vui', 'hâm mộ', 'niềm', 'tự hào', 'tự tôn', 'dân tộc', 'vinh quang', 'nước nhà', 'u', 'việt nam', 'mãi', 'yêu', 'u', 'việt nam', 'vẫn', 'dỏi', 'đội tuyển', 'việt', 'nam', 'tuyệt vời', 'cố', 'trung', 'kết', 'aff', 'củng', 'toàn thể', 'người dân', 'việt nam', 'cầu mong', 'lm', 'lịch', 'sữ', 'cúp', 'chờ', 'lắm', 'rưng rưng', 'nước mắt', 'ak', 'yêu', 'đất nước', 'việt', 'nam', 'yêu', 'u', 'nổi', 'da gà', 'tự hào', 'việt nam', 'chiến thắng', 'sea', 'game', 'xúc động', 'cảm xúc', 'trận', 'đấu', 'u', 'châu á', 'tuyệt vời', 'cảm xúc', 'ngọt ngào', 'nước mắt', 'rơi', 'chung kết', 'xúc động', 'hậu vệ', 'trung vệ', 'tiền vệ', 'tiền đạo', 'thủ môn', 'xuất sắc', 'thành công', 'tập thể', 'đoàn kết', 'việt nam', 'in', 'my', 'heart', 'giải', 'u', 'châu á', 'xúc động', 'nhửng', 'chàng', 'trai', 'bãn', 'lĩnh', 'mạnh mẽ', 'clip', 'xúc động', 'sự cố gắng', 'thành tích', 'u', 'việt nam', 'hlv', 'park', 'thất bại', 'mẹ', 'thành công', 'việt nam', 'cố', 'cảm xúc', 'lâng lâng', 'đây', 'lịch sử', 'bóng đá', 'việt nam', 'n', 'xong', 'cảm xúc', 'nghẹn ngào', 'ko', 'hề', 'tâm', 'bóng đá', 'việt nam', 'lag', 'con gái', 'u', 'việt nam', 'đợt', 'đá', 'đầu', 'yêu', 'đội tuyển', 'vn', 'đi', 'video', 'ntn', 'cảm giác', 'giải', 'aff', 'cup', 'mong', 'vn', 'thắng', 'malaysia', 'chung kết', 'yêu', 'nghẹn ngào', 'tiếc', 'k', 'vô địch', 'u', 'k', 'yếu', 'may mắn', 'thời tiết', 'nghiêng', 'đội', 'kia', 'nổi', 'da gà', 'liên tục', 'cảm xúc', 'đi', 'bao', 'xúc động', 'bây h', 'gớt', 'nước mắt', 'thầy', 'park', 'việt nam', 'thầy', 'đc', 'quốc gia', 'việt nam', 'video', 'ôi', 'cảm xúc', 'tự hào', 'vn', 'trái', 'bóng', 'cảm xúc', 'có lẽ', 'k', 'đam mê', 'nhiệt huyết', 'tinh thần', 'yêu', 'niềm', 'tự hào', 'dân tộc', 'victory ️', 'hqua', 'vn', 'thua', 'nhật bản', 'pen', 't', 'vô', 'clip', 'trận', 'đấu', 'chiến thắng', 't', 'cảm xúc', 'già', 'hòa chung', 'thanh niên', 'm', 'dân', 'rơi', 'nước mắt', 'cảm xúc', 'u', 'vn', 'u', 'tỏa', 'sân cỏ', 'ghi', 'chiến đấu', 'ghi bàn', 'nản lòng', 'sân cỏ', 'sân khấu', 'tỏa', 'ngôi sao', 'ngôi sao', 'duy nhất', 'nằm', 'ngực', 'tự hào', 'việt nam', 'mk', 'xúc động', 'câu', 'hò', 'mong', 'đội tuyển', 'việt nam', 'tiến', 'kì tích', 'vĩ đại để', 'lịch sử', 'dân tộc', 'đi', 'k', 'chán', 'muôn ngàn', 'cám ơn', 'bầu', 'đức', 'thầy', 'park', 'chàng', 'trai', 'vàng', 'đội tuyển', 'vn', 'lồng', 'nhạc', 'ad', 'video', 'mãi', 'đi', 'lịch sử', 'bóng đá', 'vn', 'i', 'love', 'vn', 'chảy', 'nước mắt', 'tuyệt vời', 'việt nam', 'đi', 'rơi', 'nước mắt', 'trận', 'đấu', 'u việt', 'nam', 'việt nam vô địch', 'giải', 'u', 'châu á', 'đội', 'vn', 'chiến đấu', 'chiến binh', 'xem', 'đi', 'xúc động', 'trận', 'viet', 'nam', 'jordan', 'tối', 'xong', 'những', 'kỉ niệm', 'thế hệ', 'vn', 'mãi mãi', 'k', 'quên', 'tự hào', 'xúc động', 'mãi mãi', 'đội hình', 'u', 'việt nam', 'suất', 'xắc', 'hlv', 'park', 'hang', 'seo', 'anh hùng', 'việt nam', 'vinh quang', 'clip', 'khóc', 'xúc động', 'tự hào', 'vui sướng', 'tràn đầy', 'đường', 'đi', 'hôm nay', 'sea game', 'khép', 'park hang', 'seo', 'việt nam', 'đội tuyển', 'u', 'á quân', 'vck', 'u châu á', 'châu', 'trung quốc', 'đội tuyển', 'olympic', 'bóng đá', 'nam', 'lọt', 'bán kết', 'top', 'đội', 'asiad', 'indonesia', 'chấp nhận', 'thua', 'uae', 'trận', 'tranh', 'hạng', 'chấm', 'luân lưu', 'may rủi', 'thầy', 'park', 'dìu dắt', 'u', 'vn', 'vinh quang', 'giúp', 'u', 'lịch sử', 'cảm ơn', 'cầu thủ', 'vn', 'niềm', 'tự hào', 'tổ quốc', 'vn', 'hôm nay', 'khóc', 'đù', 'má', 'xúc động', 'rơi', 'nước mắt', 'thầy trò', 'tuyệt vời', 'nghìn', 'tràn đầy', 'cảm xúc', 'tự hào', 'hai', 'chữ', 'việt', 'nam', 'cám ơn', 'hlv', 'cám ơn', 'cầu thủ', 'chiến tích', 'seagame', 'k', 'cảm giác', 'việt nam vô địch', 'seagame', 'viedeo', 'bh', 'cảm xúc', 'đầu', 'mấy', 'đội tuyển', 'u', 'việt nam', 'yêu', 'ddđtđhlht', 'nước mắt', 'ko thể', 'ngừng', 'rơi', 'đc', 'ko', 'bh', 'bóng đá', 'việt nam', 'h', 'yêu', 'lắm', 'vn', 'k', 'khoé mắt', 'cay', 'cảm ơn', 'thầy', 'park', 'u', 'tự hào', 'khoảnh khắc', 'ko', 'quên', 'rơi', 'nước mắt', 'hành trình', 'u', 'việt', 'nam', 'cảm xúc', 'nguyên vẹn', 'bao', 'thất vọng', 'dồn', 'segame', 'trận', 'thua', 'thái', 'có lẽ', 'ko', 'u', 'giải', 'đấu', 'cảm xúc', 'người yêu', 'bóng đá', 'vn', 'thất vọng', 'ko', 'hy vọng', 'kỳ vọng', 'buồn', 'có lẽ', 'giải', 'ng', 'vn', 'đá', 'bản năng', 'trận', 'đấu', 'vn', 'bật', 'tivi', 'mấy', 'trận', 'đầu', 'vòng', 'bảng', 'trận', 'syria', 'ko', 'kỳ vọng', 'mấy', 'kỳ diệu', 'thay', 'thắng', 'hoài', 'thắng', 'may mắn', 'kỳ lạ', 'nỗ lực', 'đc', 'đền đáp', 'cổ tích', 'nhiều', 'ng', 'trận', 'iraq', 'chú ý', 'đơn giản', 'lịch sử', 'vòng', 'bảng', 'tâm lý', 'thua', 'đc', 'tỷ số', 'mơ', 'bùng nổ', 'trận', 'quatar', 'kỳ tích', 'cổ tích', 'đc', 'viết', 'tiếp', 'yêu', 'không khí', 'dân', 'đất nước', 'lật', 'đi', 'lật', 'clip', 'ăn mừng', 'cảm xúc', 'hồi hộp', 'vỡ', 'òa', 'người yêu', 'bóng đá', 'tuyệt vời', 'tinh thần', 'dân tộc', 'niềm', 'tự hào', 'dân tộc', 'màu', 'đỏ', 'dân tộc', 'đi', 'đtvn', 'bàn tay', 'huấn luyện viên', 'park', 'hang', 'seo', 'tuyệt vời', 'xong', 'tâm trạng', 'buồn', 'nặng nề', 'kinh khủng', 'replay', 'hoài', 'cảm giác', 'trận', 'qatar', 'dâng', 'trào', 'đánh bại', 'đại gia', 'coi thường', 'đội', 'vn', 'ta', 'tuyệt vời', 'dã man', 'coi', 'rơi', 'nước mắt', 'hạnh phúc', 'clip', 'u', 'vn', 'mn', 'tinh thần', 'dân tộc', 'vn', 'ôn', 'kỉ niệm', 'thất bại', 'chiến', 'thằng', 'ý nghĩa', 'hlv', 'park', 'hang', 'seo', 'đứng', 'hạng', 'hàn quốc', 'trái tim', 'việt nam', 'park hang seo', 'huấn luyện viên', 'giỏi', 'thầy', 'park', 'đi', 'huyền thoại', 'lịch sử', 'bóng đá', 'việt nam', 'yêu', 'thầy', 'yêu đtvn', 'việt nam', 'hiện thực hóa', 'giấc', 'mơ', 'hcv seagames', 'tuyệt vời', 'bóng đá', 'nữ', 'nam', 'chiếm lĩnh', 'huy chương', 'môn', 'thể thao', 'vua', 'what', 'a', 'year', 'nước mắt', 'rơi', 'tự hào', 'việt', 'nam', 'rơi', 'nước mắt', 'quên', 'quên', 'cảm xúc', 'đội', 'bóng', 'nỗi', 'da gà', 'khóc', 'hết sức', 'bình luận', 'truyền cảm', 'việt nam vô địch', 'aff cup', 'video', 'xúc động', 'hình ảnh', 'đẹp', 'k', 'quên', 'cảm ơn', 'người hùng', 'việt nam', 'niềm', 'tự hào', 'người yêu', 'bóng đá', 'nước nhà', 'hôm nay', 'khoảnh khắc', 'tuyệt vời', 'đội tuyển', 'nước nhà', 'cảm động', 'rơi', 'nước mắt', 'cảm xúc', 'tự hào', 'khóc', 'tự hào', 'việt nam', 'vck', 'u châu áthường châu', 'ký ức', 'phai mờ', 'tim', 'dân', 'việt nam', 'mắt', 'rưng rưng', 'tự hào', 'tiếng', 'việt nam', 'lứa', 'cầu thủ', 'tài năng', 'điều', 'phát huy', 'đc', 'tiềm năng', 'vốn', '“', 'đường', '”', 'park', 'đc', 'sea games', 'ko', 'ngại ngùng', 'rụt rè', 'thay', 'tự tin', 'cầm', 'bóng', 'phối hợp', 'ăn ý', 'toàn', 'đội', 'khơi', 'tình yêu', 'bóng đá', 'vn', 'cảm ơn', 'chiến binh', 'áo', 'đỏ', 'bầu', 'đức', 'người hùng', 'âm thầm', 'bóng đá', 'việt', 'nam', 'viet', 'nam', 'trung', 'kết', 'aff', 'xúc động', 'cảm xúc', 'ban đầu', 'clip', 'lầnnnn', 'cảm', 'súc', 'trọn vẹn', 'đầu', 'sea', 'game', 'việt nam', 'phục thù', 'hnay', 'xúc động', 'mong', 'u', 'vn', 'lập', 'kì tích', 'trc', 'toii', 'u', 'vietnam', 'rưng rưng', 'cám ơn', 'cầu thủ', 'vàng', 'thầy', 'park', 'nổi', 'da gà', 'lạnh', 'sống', 'lưng', 'người hùng', 'hành trình', 'from', 'zero', 'to', 'hero', 'thời', 'huy hoàng', 'đội tuyển', 'vn', 'coi', 'đi', 'coi', 'rơi', 'nước mắt', 'ai', 'giơ', 'vn', 'trải', 'thất bại', 'cố gắng', 'chiến thắng', 'vinh quang', 'vô địch', 'vn', 'u', 'châu á', 'cảm xúc', 'bóng đá', 'việt nam', 'đna', 'trận', 'chung kết', 'indonesia', 'tự hào', 'việt nam', 'biên tập', 'nhạc', 'bi tráng', 'giúp', 'trải', 'cung bậc', 'cảm xúc', 'trình tự', 'lịch sử', 'bố cục', 'câu chuyện', 'khúc chiết', 'rõ ràng', 'ko', 'thừa', 'lặng', 'cần thiết', 'giai đoạn', 'hùng tráng', 'qay', 'cảm xúc', 'nảo', 'nề', 'rạo rực', 'mún', 'đc', 'tiếc', 'dịch', 'covid', 'trận', 'bóng đá', 'bây h', 'đội tuyển', 'tinh thần', 'xuất sắc', 'hi vọng', 'tương lai', 'mong', 'đội tuyển', 'nhm', 'bóng đá', 'việt nam', 'kì tích', 'cố', 'việt nam', 'nghỉ', 'dịch', 'tự hào', 'việt', 'nam', 'không', 'bao', 'xúc động', 'tự hào', 'hôm nay', 'tự hào', 'rưng rưng', 'nước mắt', 'sea games', 'việt nam', 'đi', 'vô địch', 'huy chương', 'vàng', 'love', 'việt nam', 'u', 'việt nam', 'cuộc đời', 't', 'ý nghĩa', 'bao', 't', 'giọt', 'nước mắt', 'hạnh phúc', 'rơi', 'tròn', 'hai', 'lập', 'kì tích', 'thường châu', 'hôm nay', 'vòng', 'bảng', 'giải', 'đấu', 'mặc dù', 'hơi', 'buồn', 'bóng đá', 'thắng', 'thuamong', 'đội tuyển', 'nỗi', 'buồn', 'trở lại', 'mạnh mẽ', 'trận', 'chung kết', 'ko thể', 'ko', 'khóc', 'khóc', 'ko', 'giành', 'á quân', 'khóc', 'hp', 'thương', 'vô bờ bến', 'chiến đấu', 'môi trường', 'khắc nghiệt', 'thời tiết', 'thường châu', 'coi', 'video', 'tràn đầy', 'cảm xúc', 'nước mắt', 'ngừng', 'rơi', 'video', 'cảm xúc', 'hiện', 'màn', 'trình diễn', 'quang', 'hải', 'màn', 'trình diễn', 'đẳng cấp', 'châu lục', 'lứa', 'đội tuyển', 'xuất sắc', 'mong', 'phát triển', 'seagame', 'kết thúc', 'hcv', 'đtvn đt u', 'vck u châu á', 'giờ', 'clip', 'xúc động', 'rơi', 'nước mắt', 'có thể', 'chiến thắng', 'u', 'vn', 'thường châu', 'cột', 'mốc', 'đánh dấu', 'đi', 'bdvn', 'mong', 'mấy', 'thanh niên', 'đừng', 'chỉ trích', 'thất bại', 'tròn', 'u', 'việt nam', 'chung kết', 'cảm xúc', 'nguyên vẹn', 'đội', 'u', 'đi', 'nước mắt', 'nhm', 'xúc động', 'buồn', 'bùi', 'tiến dũng', 'thằng', 'thanh hoá', 'được', 'cơ chứ', 'cảm xúc', 'xúc động', 'tinh thần', 'quả cảm', 'đem', 'vinh danh', 'nước nhà', 'cảm ớn', 'huấn luyện viên', 'tài ba', 'truyền cảm hứng', 'tài năng', 'đất nước', 'lịch sử', 'bóng đá', 'việt', 'nam', 'clip', 'lưu truyền', 'qua đời', 'đi', 'đấy', 'đỉnh', 'đi', 'cảm xúc', 'vỡ', 'oà', 'kết thúc', 'chút', 'quên', 'đi', 'buồn', 'cũ', 'đón', 'vui vẻ', 'chúc', 'đội tuyển', 'u', 'việt nam', 'gặt hái', 'thành công', 'kì', 'u', 'châu á', 'hành trình', 'cảm xúc', 'không thể nào', 'quên', 'cảm ơn', 'h', 'cảm xúc', 'lâng lâng', 'hồi hộp', 'mog', 'chờ', 'hạnh phúc', 'vòng', 'chung kết', 'u', 'châu á', 'ng', 'yêu', 'bóng đá', 'việt nam', 'giấc', 'mơ', 'tuyệt', 'đẹp', 'dù', 'thất bại', 'tiếc', 'ko thể', 'giành', 'chức', 'vô địch', 'mãi', 'ký ức', 'tuyệt', 'đẹp', 'ng', 'dân', 't', 'lưu giữ', 'chiến tích', 'đẹp đẽ', 'mãi', 'trog', 'tim', 'chiến tích', 'thường châu', 'trang', 'sử', 'vàng', 'bóng đá', 'mãi', 'iu', 'bóng đá', 'vn', 'câu chuyện', 'cổ tích', 'xảy', 'thường châu', 'bóng đá', 'vn', 'mãi', 'trog', 'tim', 'ký ức', 'camon', 'ng', 'hùng', 'ko', 'bik', 'mệt mỏi', 'camon', 'thuyền trưởng', 'park', 'hang', 'seo', 'tàu', 'bóng đá', 'vn', 'cập', 'bến', 'bờ', 'thành công', 'camon', 'mng', 't', 'ký ức', 'tốt đẹp', 'xin', 'camon', 'nhìu', 'th', 'december', 'video', 'chục', 'cảm xúc', 'mong', 'u châu a', 'thailand', 'dc', 'cảm xúc', 'cám ơn', 'video', 'hôm nay', 'việt nam', 'viết', 'lịch sử', 'p', 's', 'like', 'vcc', 'lứa', 'cầu thủ', 'con người', 'đi', 'thất bại', 'thành công', 'u', 'ngôi sao', 'ngôi sao', 'duy nhất', 'nằm', 'ngực', 'trái', 'đội trưởng', 'mẫu mực', 'xuân trường', 'chàng', 'trai', 'u', 'việt nam', 'cống hiến', 'hết mình', 'nhm', 'cảm xúc', 'tuyệt vời', 'trái tim', 'rung', 'cung bậc', 'cảm xúc', 'đầu', 'khóc', 'clip', 'cám ơn', 'chàng', 'trai', 'lắm', 'yêu', 'yêu', 'việt nam', 'việt nam', 'muôn năm', 'tui', 'tự hào', 'bóng đá', 'việt nam', 'việt nam vô địch', 'seagame', 'nha', 'mn', 'giành', 'hcv', 'segame', 'lịch sử', 'rưng rưng', 'hlv', 'park', 'hang', 'seo', 'm', 'n', 'đừng', 'dislike', 'clip', 'vô địch', 'giây', 'cầu thủ', 'hết sức', 'mik', 'đội tuyển', 'u', 'việt nam', 'hàng', 'triệu', 'theo dõi', 'đội tuyển', 'uzbekistan', 'mấy', 'nghìn', 'theo dõi', 'bóng đá', 'việt nam', 'park', 'hang', 'seo', 'cảm xúc', 'lỗ', 'lực', 'chiến thắng', 'vn', 'anh hùng', 'u', 'vn', 'giọt', 'nước mắt', 'tràn đầy', 'niêm', 'vui', 'chấn thương', 'cầu thủ', 'vn', 'vô địch', 'thời tiết', 'lạnh', 'anh hùng', 'lỗ', 'lực', 'bàn', 'thắng', 'vn', 'dân', 'khóc', 'niềm', 'vui', 'xúc động', 'tiếng', 'cười', 'la', 'hét', 'vn', 'vô địch', 'xong', 'trận', 'vietnam', 'triều tiên', 'liền', 'cảm xúc', 'hlv', 'park', 'hang', 'seo', 'cầu thủ', 'trẻ', 'quên', 'mời', 'hlv', 'park', 'bầu', 'đức', 'á quân', 'u châu á', 'top', 'đội', 'asiad games', 'vô địch', 'aff cup', 'top', 'đội', 'asian cup', 'hình ảnh', 'nước mắt', 'rơi', 'tự hào', 'pack', 'hang', 'seo', 'câu nói', 'tiép', 'them', 'sức mạnh', 'bóng đá', 'việt nam', 'btd', 'cầu thủ', 'cảm giác', '️ ️ ️ ️', 'clip', 'cảm xúc', 'bóng đá', 'nước mắt', 'rơi', 'hình ảnh', 'đẹp', 'u', 'việt', 'nam', 'park', 'trung quốc', 'ra mặt', 'sân vận động', 'thảm', 'cỏ', 'đẹp', 'câu', 'thủ', 'việt nam', 'lát', 'cắt', 'lịch sử', 'má', 'kỉ niệm', 'bóng đá', 'h', 'lứa', 'cầu thủ', 'bn', 'thăng trầm', 'r', 'gặt hái', 'thành quả', 'kì diệu', 'hôm nay', 'vô địch', 'aff cup', 'tuyệt vời', 'hoàng kim', 'bóng đá', 'rơi lệ', 'cảm giác', 'tuyệt vời', 'rớt', 'nước mắt', 'mặc dù', 'sg', 'chiến thắng', 'hcv', 'chiến thắng', 'tim', 'bóng đá', 'vn', 'vô địch', 'sg', 'khoảnh khắc', 'nước mắt', 'rơi', 'lòng', 'tự hào', 'tự tôn', 'dân tộc', 'trỗi', 'dậy', 'mạnh mẽ', 'dù', 'xe', 'bus', 'đi', 'tàu điện ngầm', 'rớt', 'nước mắt', 'có lẽ', 'hình ảnh', 'đẹp', 'bóng đá', 'nước nhà', 'mãi', 'đọng', 'tim', 'hi vọng', 'màu', 'bóng đá', 'việt nam', 'chuyển mình', 'vươn', 'mạnh mẽ', 'tham gia', 'wc', 'thước', 'phim', 'yêu', 'bóng đá', 'nước nhà', 'cố', 'chiến binh', 'áo', 'đỏ', 'người hùng', 'sân cỏ', 'màu', 'ngực', 'áo', 'hậu phương', 'triệu', 'dân', 'dõi', 'vietnam', 'national', 'team', 'is', 'now', 'very', 'strong', 'from', 'indonesia ️', 'tự hào', 'việt nam', 'việt nam vô địch', 'i love you việt nam', 'chẳng', 'dám', 'nghi ngờ', 'khả năng', 'đội tuyển', 'việt nam', 'park', 'vô địch', 'aff', 'thế hệ', 'vàng', 'bóng đá', 'nha', 'tuyệt vời', 'việt nam', 'ơiii', 'nổi', 'da gà', 'cảm xúc', 'hạnh phúc', 'đi', 'nổi', 'video', 'truyền cảm hứng', 'mạnh mẽ', 'thế hệ', 'trẻ', 'việt', 'nam', 'hôm nay', 'coi', 'clip', 'khóc', 'đấy', 'con trai', 'khóc', 'vui sướng', 'tự hào', 'đoàn kết', 'cho dù', 'mãn nguyện', 'vui sướng', 'đòi hỏi', 'đội tuyển', 'quốc gia', 'vn', 'toàn', 'dân', 'vn', 'sung sướng', 'đoàn kết', 'đá', 'bóng', 'tung hô', 'vui vẻ', 'k', 'kìm', 'đc', 'nc', 'mắt', 'họ', 'đi', 'thất bại', 'đi', 'hành trình', 'kì diệu', 'giải', 'đấu', 'xúc động', 'cuộc đời', 'mơ ước', 'chứng kiến', 'thầy', 'park', 'viết', 'giấc', 'mơ', 'thành', 'sự thật', 'đưa', 'đám', 'tàn quân', 'seagame', 'đỉnh', 'vinh quang', 'toàn bộ', 'hâm mộ', 'nuơsc', 'đỉnh', 'mây', 'trời', 'hành trình', 'lịch sử', 'u', 'việt nam', 'đứng', 'thất bại', 'sea', 'game', 'cầu thủ', 'u', 'việt nam', 'mạnh mẽ', 'u', 'việt nam', 'hlv', 'park', 'hang', 'seo', 'u', 'vn', 'u', 'hàn quốc', 'xúc động', 'rớt', 'nước mắt', 'cảm xúc', 'tuyệt vời', 'nổi', 'da gà', 'cảm xúc', 'vỡ', 'oà', 'nguyên', 'yêu', 'bùi tiến dũng và công phượng', 'con người', 'chẳng', 'sai sót', 'xúc động', 'mong', 'việt nam', 'tiến', 'sánh vai', 'cường quốc', 'châu', 'tự hào', 'việt', 'nam', 'nhỏ bé', 'hùng mạnh', 'cảm giác', 'đầu', 'xúc động', 'mong', 'mhm', 'ủng hộ', 'yêu thương', 'cầu thủ', 'thắng', 'bại', 'dũng', 'ủng hộ', 'thế giới', 'lưng', 'hãy', 'cố', 'việt nam', 'vô địch', 'aff cup', 'like', 'cmt', 'sem', 'rưng rưng', 'cảm xúc', 'hôm nay', 'vn', 'nưqx', 'vt', 'lịch sự', 'bóng đá', '️ ️ đây', 'thời kỳ', 'hlv', 'tài giỏi', 'bố park', 'cộng', 'vs', 'lứa', 'cầu thủ', 'dứoi', 'bố', 'chấu á', 'coi', 'vn', 'đối thủ', 'gờm', 'đấy', '️ ️ ️ ️', 'thành công', 'vạch', 'xuất phát', 'thất bại', 'nhắc', '“', 'thường châu', '”', 'nổi', 'da gà', 'xong', 'ứa', 'nước mắt', 'mùa', 'đông', 'theo dõi', 'vck u châu á', 'tuần', 'qua đời', 'trông chờ', 'aff', 'cúp', 'rực lửa', 'vòng', 'chung kết', 'u', 'có', 'cúp', 'thành công', 'bóng đá', 'vn', 'lối', 'bóng đá', 'khuất phục', 'chiến đấu', 'hết mình', 'không', 'ghi bàn', 'tinh thần', 'thắng', 'nổi', 'chúc', 'đội tuyển', 'vn', 'thành công', 'u', 'việt nam', 'chiến thắng', 'đại dịch', 'đội hình', 'chính thức', 'kiên quyết', 'chạm', 'cup', 'thầy', 'park', 'vn', 'cảm xúc', 'thật', 'nổi', 'da gà', 'xúc động', 'đầu', 'trận', 'chung kết', 'sea game', 'lai', 'xúc động', 'rơm rớm', 'nước mắt', 'tui', 'ko', 'mong', 'kết', 'đẹp', 'dc', 'hoà', 'không khí', 'ăn mừng', 'đất nước', 'nhịp', 'đập', 'việt nam', 'ngang', 'tầm', 'thế giới', 'cầu thủ', 'trẻ', 'việt nam', 'xứng', 'tầm', 'thế giới', 'câu', 'diễn tả', 'tự hào', 'quá việt nam', 'ôi', 'cảm giác', 'trc', 'hôm nay', 'òa', 'phút', 'may', 'hòa', 'đi', 'tiếp', 'đội tuyển', 'u', 'việt nam', 'vô địch', 'seagame', 'dơ', 'nghẹn ngào', 'bể', 'u', 'xong', 'chạy', 'vn', 'hôm nay', 'việt nam vô địch', 'seagame', 'bao', 'chờ đợi', 'xúc động', 'vui mừng', 'đợt', 'u châu á', 'mãi', 'đúng', 'khởi đầu', 'trân trọng', 'mãi', 'nước mắt', 'chảy', 'chúc mừng', 'bóng đá', 'việt nam vô địch', 'seagame', 'a', 'mãi', 'a', 'bùi tiến dũng', 'thất bại', 'hàn quốc', 'chàng', 'trai', 'cố', 'rắng', 'hết sức', 'hàn quốc', 'cố', 'chàng', 'trai', 'chặn đường', 'thầy', 'park', 'u', 'thầy', 'thất bại', 'sea', 'game', 'đc', 'hôm nay', 'tuyệt vời', 'trận', 'đấu', 'tự hào', 'cảm xúc', 'tả', 'lắm', 'sao', 'mấy', 'a', 'ko', 'vđ', 'chảo', 'nắp', 'nồi', 'hihi', 'tuyệt vời', 'u', 'vn', 'h', 'thắng', 'đừng', 'tung hô', 'thua', 'đừng', 'chì chiết', 'trận', 'đấu', 'chân', 'đi', 'j', 'pack', 'hang', 'seo', 'đội tuyển', 'u', 'việt', 'nam', 'nằm', 'tim', 'mãi', 'yêu', 'ý chí', 'quyết tâm', 'u', 'việt nam', 'lịch', 'sư', 'việt', 'nam vô địch', 'yêu việt nam', 'khoảnh khắc', 'bùi tiến dũng', 'toàn', 'đội', 'việt nam', 'đừng', 'lỗi', 'sai', 'lưng', 'thủ môn', 'coi', 'nhưg', 'cảm xúc', 'nguyên vẹn', 'nhữg', 'trải', 'thăng trầm', 'bđvn', 'đc', 'gục', 'ngã', 'trận', 'ck', 'sea games', 'thất bại', 'muối mặt', 'aff', 'sea games', 'đồ thị', 'hình', 'sin', 'lịch sử', 'u', 'vn', 'niềm', 'vui', 'ng', 'hâm mộ', 'nước nhà', 'hcv', 'sea', 'games', 'môn', 'bóng đá', 'nam', 'nổi', 'da gà', '藍giọng a phúc', 'hayyy', 'mong', 'cover', 'trận', 'chung kết', 'màu cờ', 'sắc áo', 'chiếm', 'khung cảnh', 'tuyết', 'tự hào', 'vn', 'ơiiiii', 'trận', 'thường châu', 'rơi', 'nc', 'mắt', 'đá', 'banh', 'việt nam', 'vô địch', 'aff cup', 'nè', 'ôi', 'cảm xúc', 'nghẹn ngào', 'chảy', 'nước mắt', 'cảm xúc', 'tả', 'chúc', 'hôm nay', 'đtvn', 'chiến thắng', 'vẻ vang', 'thái', 'lan', 'mỹ đình', 'khóc', 'video', 'tự hào', 'wa', 'vn', 'cảm xúc', 'mạnh mẽ', 'vòng', 'seagame', 'thành', 'vương', 'seagame', 'đoạn', 'công phượng', 'trả lời', 'phỏng vấn', 'thương', 'ghê', 'xúc động', 'vl']\n",
            "Length:  2121\n"
          ]
        }
      ]
    },
    {
      "cell_type": "code",
      "source": [
        "# Hàm để Convert \"list\" thành \"list of lists\"\n",
        "def List2LOLs(lst):\n",
        "    return [[element] for element in lst]\n",
        "\n",
        "new_comments_list2 = List2LOLs(new_comments_list)\n",
        "print(new_comments_list2[0:10])\n",
        "print(\"Length: \", len(new_comments_list2))"
      ],
      "metadata": {
        "colab": {
          "base_uri": "https://localhost:8080/"
        },
        "id": "SLVTQqLLXWJP",
        "outputId": "3883833b-edb3-4bd9-f221-31a65a5b3c69"
      },
      "execution_count": null,
      "outputs": [
        {
          "output_type": "stream",
          "name": "stdout",
          "text": [
            "[['nhạc'], ['nha'], ['moonlight'], ['sonatabeethoven'], ['epic'], ['legend'], ['breath'], ['and'], ['life'], ['bùi tiến dũng']]\n",
            "Length:  2121\n"
          ]
        }
      ]
    },
    {
      "cell_type": "code",
      "source": [
        "# TF-IDF: \n",
        "from sklearn.feature_extraction.text import TfidfVectorizer\n",
        "\n",
        "def dummy(doc):\n",
        "  return doc\n",
        "\n",
        "vectorizer2 = TfidfVectorizer(analyzer='word', tokenizer=dummy, preprocessor=dummy, token_pattern=None) # Khai báo\n",
        "vectorizer2.fit(new_comments_list2) # Build từ điển\n",
        "print(\"Length: \", len(vectorizer2.vocabulary_))\n",
        "#print(vectorizer2.idf_)"
      ],
      "metadata": {
        "id": "b2JYpbaVCn-7",
        "colab": {
          "base_uri": "https://localhost:8080/"
        },
        "outputId": "7b149b9d-e435-451b-bcd4-213be950875d"
      },
      "execution_count": null,
      "outputs": [
        {
          "output_type": "stream",
          "name": "stdout",
          "text": [
            "Length:  776\n"
          ]
        }
      ]
    },
    {
      "cell_type": "code",
      "source": [
        "count = 0\n",
        "vocal = vectorizer2.vocabulary_\n",
        "for value in sorted(vocal):\n",
        "  if(count > 30):\n",
        "    break\n",
        "  else:\n",
        "    key = vocal[value]\n",
        "    count += 1\n",
        "    print(key, \": \", value)"
      ],
      "metadata": {
        "colab": {
          "base_uri": "https://localhost:8080/"
        },
        "id": "n3EbWUunfekb",
        "outputId": "bac8db13-8776-4907-83c3-8275962f2c15"
      },
      "execution_count": null,
      "outputs": [
        {
          "output_type": "stream",
          "name": "stdout",
          "text": [
            "0 :  a\n",
            "1 :  ad\n",
            "2 :  aff\n",
            "3 :  aff cup\n",
            "4 :  ai\n",
            "5 :  ak\n",
            "6 :  and\n",
            "7 :  anh hùng\n",
            "8 :  asiad\n",
            "9 :  asiad games\n",
            "10 :  asian cup\n",
            "11 :  ban đầu\n",
            "12 :  banh\n",
            "13 :  bao\n",
            "14 :  bdvn\n",
            "15 :  bh\n",
            "16 :  bi tráng\n",
            "17 :  bik\n",
            "18 :  biên tập\n",
            "19 :  bn\n",
            "20 :  breath\n",
            "21 :  btd\n",
            "22 :  bus\n",
            "23 :  buồn\n",
            "24 :  bàn\n",
            "25 :  bàn tay\n",
            "26 :  bán kết\n",
            "27 :  bây h\n",
            "28 :  bãn\n",
            "29 :  bình luận\n",
            "30 :  bóng\n"
          ]
        }
      ]
    }
  ]
}